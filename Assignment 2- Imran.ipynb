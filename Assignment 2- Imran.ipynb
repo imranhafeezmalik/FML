{
 "cells": [
  {
   "cell_type": "markdown",
   "metadata": {},
   "source": [
    "Data Cleaning Assignment"
   ]
  },
  {
   "cell_type": "code",
   "execution_count": 1,
   "metadata": {},
   "outputs": [
    {
     "data": {
      "text/html": [
       "<div>\n",
       "<style scoped>\n",
       "    .dataframe tbody tr th:only-of-type {\n",
       "        vertical-align: middle;\n",
       "    }\n",
       "\n",
       "    .dataframe tbody tr th {\n",
       "        vertical-align: top;\n",
       "    }\n",
       "\n",
       "    .dataframe thead th {\n",
       "        text-align: right;\n",
       "    }\n",
       "</style>\n",
       "<table border=\"1\" class=\"dataframe\">\n",
       "  <thead>\n",
       "    <tr style=\"text-align: right;\">\n",
       "      <th></th>\n",
       "      <th>id</th>\n",
       "      <th>city</th>\n",
       "      <th>gender</th>\n",
       "      <th>age</th>\n",
       "      <th>hh_size</th>\n",
       "      <th>education</th>\n",
       "      <th>education_1</th>\n",
       "      <th>height</th>\n",
       "      <th>weight</th>\n",
       "    </tr>\n",
       "  </thead>\n",
       "  <tbody>\n",
       "    <tr>\n",
       "      <th>0</th>\n",
       "      <td>1</td>\n",
       "      <td>Bordeaux</td>\n",
       "      <td>Male</td>\n",
       "      <td>25-34</td>\n",
       "      <td>4</td>\n",
       "      <td>4</td>\n",
       "      <td>Master or doctorate</td>\n",
       "      <td>178.0</td>\n",
       "      <td>98.0</td>\n",
       "    </tr>\n",
       "    <tr>\n",
       "      <th>1</th>\n",
       "      <td>2</td>\n",
       "      <td>Lille</td>\n",
       "      <td>Male</td>\n",
       "      <td>35-44</td>\n",
       "      <td>1</td>\n",
       "      <td>3</td>\n",
       "      <td>Bachelor</td>\n",
       "      <td>180.0</td>\n",
       "      <td>77.0</td>\n",
       "    </tr>\n",
       "    <tr>\n",
       "      <th>2</th>\n",
       "      <td>3</td>\n",
       "      <td>Montpellier</td>\n",
       "      <td>Male</td>\n",
       "      <td>25-34</td>\n",
       "      <td>2</td>\n",
       "      <td>2</td>\n",
       "      <td>Master or doctorate</td>\n",
       "      <td>180.0</td>\n",
       "      <td>83.0</td>\n",
       "    </tr>\n",
       "    <tr>\n",
       "      <th>3</th>\n",
       "      <td>4</td>\n",
       "      <td>Lyon</td>\n",
       "      <td>Male</td>\n",
       "      <td>&lt;25</td>\n",
       "      <td>1</td>\n",
       "      <td>1</td>\n",
       "      <td>Bachelor</td>\n",
       "      <td>178.0</td>\n",
       "      <td>80.0</td>\n",
       "    </tr>\n",
       "    <tr>\n",
       "      <th>4</th>\n",
       "      <td>5</td>\n",
       "      <td>Montpellier</td>\n",
       "      <td>Female</td>\n",
       "      <td>25-34</td>\n",
       "      <td>3</td>\n",
       "      <td>4</td>\n",
       "      <td>Bachelor</td>\n",
       "      <td>167.0</td>\n",
       "      <td>61.0</td>\n",
       "    </tr>\n",
       "  </tbody>\n",
       "</table>\n",
       "</div>"
      ],
      "text/plain": [
       "   id         city  gender    age  hh_size  education          education_1  \\\n",
       "0   1     Bordeaux    Male  25-34        4          4  Master or doctorate   \n",
       "1   2        Lille    Male  35-44        1          3             Bachelor   \n",
       "2   3  Montpellier    Male  25-34        2          2  Master or doctorate   \n",
       "3   4         Lyon    Male    <25        1          1             Bachelor   \n",
       "4   5  Montpellier  Female  25-34        3          4             Bachelor   \n",
       "\n",
       "   height  weight  \n",
       "0   178.0    98.0  \n",
       "1   180.0    77.0  \n",
       "2   180.0    83.0  \n",
       "3   178.0    80.0  \n",
       "4   167.0    61.0  "
      ]
     },
     "execution_count": 1,
     "metadata": {},
     "output_type": "execute_result"
    }
   ],
   "source": [
    "import seaborn as sns #this is the plotting library I'll be using \n",
    "import pandas as pd #\"as pd\" means that we can use the abbreviation in commands\n",
    "import matplotlib.pyplot as plt #we need Matplotlib for setting the labels in the Seaborn graphs\n",
    "df1 = pd.read_csv('survey.csv')\n",
    "df2 = pd.read_csv('steps.csv', sep=';')\n",
    "df1.head()"
   ]
  },
  {
   "cell_type": "code",
   "execution_count": 3,
   "metadata": {},
   "outputs": [
    {
     "data": {
      "text/html": [
       "<div>\n",
       "<style scoped>\n",
       "    .dataframe tbody tr th:only-of-type {\n",
       "        vertical-align: middle;\n",
       "    }\n",
       "\n",
       "    .dataframe tbody tr th {\n",
       "        vertical-align: top;\n",
       "    }\n",
       "\n",
       "    .dataframe thead th {\n",
       "        text-align: right;\n",
       "    }\n",
       "</style>\n",
       "<table border=\"1\" class=\"dataframe\">\n",
       "  <thead>\n",
       "    <tr style=\"text-align: right;\">\n",
       "      <th></th>\n",
       "      <th>id</th>\n",
       "      <th>20-6-2013</th>\n",
       "      <th>21-6-2013</th>\n",
       "      <th>22-6-2013</th>\n",
       "      <th>23-6-2013</th>\n",
       "      <th>24-6-2013</th>\n",
       "      <th>25-6-2013</th>\n",
       "      <th>26-6-2013</th>\n",
       "      <th>27-6-2013</th>\n",
       "      <th>28-6-2013</th>\n",
       "      <th>...</th>\n",
       "      <th>4-5-2014</th>\n",
       "      <th>5-5-2014</th>\n",
       "      <th>6-5-2014</th>\n",
       "      <th>7-5-2014</th>\n",
       "      <th>8-5-2014</th>\n",
       "      <th>9-5-2014</th>\n",
       "      <th>10-5-2014</th>\n",
       "      <th>11-5-2014</th>\n",
       "      <th>12-5-2014</th>\n",
       "      <th>13-5-2014</th>\n",
       "    </tr>\n",
       "  </thead>\n",
       "  <tbody>\n",
       "    <tr>\n",
       "      <th>0</th>\n",
       "      <td>1</td>\n",
       "      <td>NaN</td>\n",
       "      <td>NaN</td>\n",
       "      <td>NaN</td>\n",
       "      <td>NaN</td>\n",
       "      <td>3941.0</td>\n",
       "      <td>15733.0</td>\n",
       "      <td>9929.0</td>\n",
       "      <td>12879.0</td>\n",
       "      <td>10541.0</td>\n",
       "      <td>...</td>\n",
       "      <td>NaN</td>\n",
       "      <td>NaN</td>\n",
       "      <td>NaN</td>\n",
       "      <td>NaN</td>\n",
       "      <td>NaN</td>\n",
       "      <td>NaN</td>\n",
       "      <td>NaN</td>\n",
       "      <td>NaN</td>\n",
       "      <td>NaN</td>\n",
       "      <td>NaN</td>\n",
       "    </tr>\n",
       "    <tr>\n",
       "      <th>1</th>\n",
       "      <td>2</td>\n",
       "      <td>NaN</td>\n",
       "      <td>NaN</td>\n",
       "      <td>10473.0</td>\n",
       "      <td>705.0</td>\n",
       "      <td>4287.0</td>\n",
       "      <td>5507.0</td>\n",
       "      <td>4024.0</td>\n",
       "      <td>3926.0</td>\n",
       "      <td>14595.0</td>\n",
       "      <td>...</td>\n",
       "      <td>NaN</td>\n",
       "      <td>NaN</td>\n",
       "      <td>NaN</td>\n",
       "      <td>NaN</td>\n",
       "      <td>NaN</td>\n",
       "      <td>NaN</td>\n",
       "      <td>NaN</td>\n",
       "      <td>NaN</td>\n",
       "      <td>NaN</td>\n",
       "      <td>NaN</td>\n",
       "    </tr>\n",
       "    <tr>\n",
       "      <th>2</th>\n",
       "      <td>3</td>\n",
       "      <td>NaN</td>\n",
       "      <td>11428.0</td>\n",
       "      <td>12523.0</td>\n",
       "      <td>2553.0</td>\n",
       "      <td>190.0</td>\n",
       "      <td>2164.0</td>\n",
       "      <td>8185.0</td>\n",
       "      <td>9630.0</td>\n",
       "      <td>8983.0</td>\n",
       "      <td>...</td>\n",
       "      <td>3914.0</td>\n",
       "      <td>4364.0</td>\n",
       "      <td>NaN</td>\n",
       "      <td>NaN</td>\n",
       "      <td>NaN</td>\n",
       "      <td>6227.0</td>\n",
       "      <td>4567.0</td>\n",
       "      <td>2567.0</td>\n",
       "      <td>1129.0</td>\n",
       "      <td>NaN</td>\n",
       "    </tr>\n",
       "    <tr>\n",
       "      <th>3</th>\n",
       "      <td>4</td>\n",
       "      <td>NaN</td>\n",
       "      <td>NaN</td>\n",
       "      <td>NaN</td>\n",
       "      <td>NaN</td>\n",
       "      <td>NaN</td>\n",
       "      <td>NaN</td>\n",
       "      <td>NaN</td>\n",
       "      <td>NaN</td>\n",
       "      <td>NaN</td>\n",
       "      <td>...</td>\n",
       "      <td>NaN</td>\n",
       "      <td>NaN</td>\n",
       "      <td>NaN</td>\n",
       "      <td>NaN</td>\n",
       "      <td>NaN</td>\n",
       "      <td>NaN</td>\n",
       "      <td>NaN</td>\n",
       "      <td>NaN</td>\n",
       "      <td>NaN</td>\n",
       "      <td>NaN</td>\n",
       "    </tr>\n",
       "    <tr>\n",
       "      <th>4</th>\n",
       "      <td>5</td>\n",
       "      <td>NaN</td>\n",
       "      <td>NaN</td>\n",
       "      <td>NaN</td>\n",
       "      <td>NaN</td>\n",
       "      <td>NaN</td>\n",
       "      <td>NaN</td>\n",
       "      <td>NaN</td>\n",
       "      <td>NaN</td>\n",
       "      <td>NaN</td>\n",
       "      <td>...</td>\n",
       "      <td>NaN</td>\n",
       "      <td>NaN</td>\n",
       "      <td>NaN</td>\n",
       "      <td>NaN</td>\n",
       "      <td>NaN</td>\n",
       "      <td>NaN</td>\n",
       "      <td>NaN</td>\n",
       "      <td>NaN</td>\n",
       "      <td>NaN</td>\n",
       "      <td>NaN</td>\n",
       "    </tr>\n",
       "  </tbody>\n",
       "</table>\n",
       "<p>5 rows × 329 columns</p>\n",
       "</div>"
      ],
      "text/plain": [
       "   id  20-6-2013  21-6-2013  22-6-2013  23-6-2013  24-6-2013  25-6-2013  \\\n",
       "0   1        NaN        NaN        NaN        NaN     3941.0    15733.0   \n",
       "1   2        NaN        NaN    10473.0      705.0     4287.0     5507.0   \n",
       "2   3        NaN    11428.0    12523.0     2553.0      190.0     2164.0   \n",
       "3   4        NaN        NaN        NaN        NaN        NaN        NaN   \n",
       "4   5        NaN        NaN        NaN        NaN        NaN        NaN   \n",
       "\n",
       "   26-6-2013  27-6-2013  28-6-2013  ...  4-5-2014  5-5-2014  6-5-2014  \\\n",
       "0     9929.0    12879.0    10541.0  ...       NaN       NaN       NaN   \n",
       "1     4024.0     3926.0    14595.0  ...       NaN       NaN       NaN   \n",
       "2     8185.0     9630.0     8983.0  ...    3914.0    4364.0       NaN   \n",
       "3        NaN        NaN        NaN  ...       NaN       NaN       NaN   \n",
       "4        NaN        NaN        NaN  ...       NaN       NaN       NaN   \n",
       "\n",
       "   7-5-2014  8-5-2014  9-5-2014  10-5-2014  11-5-2014  12-5-2014  13-5-2014  \n",
       "0       NaN       NaN       NaN        NaN        NaN        NaN        NaN  \n",
       "1       NaN       NaN       NaN        NaN        NaN        NaN        NaN  \n",
       "2       NaN       NaN    6227.0     4567.0     2567.0     1129.0        NaN  \n",
       "3       NaN       NaN       NaN        NaN        NaN        NaN        NaN  \n",
       "4       NaN       NaN       NaN        NaN        NaN        NaN        NaN  \n",
       "\n",
       "[5 rows x 329 columns]"
      ]
     },
     "execution_count": 3,
     "metadata": {},
     "output_type": "execute_result"
    }
   ],
   "source": [
    "df2.head()"
   ]
  },
  {
   "cell_type": "code",
   "execution_count": 2,
   "metadata": {
    "scrolled": true
   },
   "outputs": [
    {
     "data": {
      "text/html": [
       "<div>\n",
       "<style scoped>\n",
       "    .dataframe tbody tr th:only-of-type {\n",
       "        vertical-align: middle;\n",
       "    }\n",
       "\n",
       "    .dataframe tbody tr th {\n",
       "        vertical-align: top;\n",
       "    }\n",
       "\n",
       "    .dataframe thead th {\n",
       "        text-align: right;\n",
       "    }\n",
       "</style>\n",
       "<table border=\"1\" class=\"dataframe\">\n",
       "  <thead>\n",
       "    <tr style=\"text-align: right;\">\n",
       "      <th></th>\n",
       "      <th>id</th>\n",
       "      <th>city</th>\n",
       "      <th>gender</th>\n",
       "      <th>age</th>\n",
       "      <th>hh_size</th>\n",
       "      <th>education</th>\n",
       "      <th>education_1</th>\n",
       "      <th>height</th>\n",
       "      <th>weight</th>\n",
       "      <th>20-6-2013</th>\n",
       "      <th>...</th>\n",
       "      <th>4-5-2014</th>\n",
       "      <th>5-5-2014</th>\n",
       "      <th>6-5-2014</th>\n",
       "      <th>7-5-2014</th>\n",
       "      <th>8-5-2014</th>\n",
       "      <th>9-5-2014</th>\n",
       "      <th>10-5-2014</th>\n",
       "      <th>11-5-2014</th>\n",
       "      <th>12-5-2014</th>\n",
       "      <th>13-5-2014</th>\n",
       "    </tr>\n",
       "  </thead>\n",
       "  <tbody>\n",
       "    <tr>\n",
       "      <th>0</th>\n",
       "      <td>1</td>\n",
       "      <td>Bordeaux</td>\n",
       "      <td>Male</td>\n",
       "      <td>25-34</td>\n",
       "      <td>4</td>\n",
       "      <td>4</td>\n",
       "      <td>Master or doctorate</td>\n",
       "      <td>178.0</td>\n",
       "      <td>98.0</td>\n",
       "      <td>NaN</td>\n",
       "      <td>...</td>\n",
       "      <td>NaN</td>\n",
       "      <td>NaN</td>\n",
       "      <td>NaN</td>\n",
       "      <td>NaN</td>\n",
       "      <td>NaN</td>\n",
       "      <td>NaN</td>\n",
       "      <td>NaN</td>\n",
       "      <td>NaN</td>\n",
       "      <td>NaN</td>\n",
       "      <td>NaN</td>\n",
       "    </tr>\n",
       "    <tr>\n",
       "      <th>1</th>\n",
       "      <td>2</td>\n",
       "      <td>Lille</td>\n",
       "      <td>Male</td>\n",
       "      <td>35-44</td>\n",
       "      <td>1</td>\n",
       "      <td>3</td>\n",
       "      <td>Bachelor</td>\n",
       "      <td>180.0</td>\n",
       "      <td>77.0</td>\n",
       "      <td>NaN</td>\n",
       "      <td>...</td>\n",
       "      <td>NaN</td>\n",
       "      <td>NaN</td>\n",
       "      <td>NaN</td>\n",
       "      <td>NaN</td>\n",
       "      <td>NaN</td>\n",
       "      <td>NaN</td>\n",
       "      <td>NaN</td>\n",
       "      <td>NaN</td>\n",
       "      <td>NaN</td>\n",
       "      <td>NaN</td>\n",
       "    </tr>\n",
       "    <tr>\n",
       "      <th>2</th>\n",
       "      <td>3</td>\n",
       "      <td>Montpellier</td>\n",
       "      <td>Male</td>\n",
       "      <td>25-34</td>\n",
       "      <td>2</td>\n",
       "      <td>2</td>\n",
       "      <td>Master or doctorate</td>\n",
       "      <td>180.0</td>\n",
       "      <td>83.0</td>\n",
       "      <td>NaN</td>\n",
       "      <td>...</td>\n",
       "      <td>3914.0</td>\n",
       "      <td>4364.0</td>\n",
       "      <td>NaN</td>\n",
       "      <td>NaN</td>\n",
       "      <td>NaN</td>\n",
       "      <td>6227.0</td>\n",
       "      <td>4567.0</td>\n",
       "      <td>2567.0</td>\n",
       "      <td>1129.0</td>\n",
       "      <td>NaN</td>\n",
       "    </tr>\n",
       "    <tr>\n",
       "      <th>3</th>\n",
       "      <td>4</td>\n",
       "      <td>Lyon</td>\n",
       "      <td>Male</td>\n",
       "      <td>&lt;25</td>\n",
       "      <td>1</td>\n",
       "      <td>1</td>\n",
       "      <td>Bachelor</td>\n",
       "      <td>178.0</td>\n",
       "      <td>80.0</td>\n",
       "      <td>NaN</td>\n",
       "      <td>...</td>\n",
       "      <td>NaN</td>\n",
       "      <td>NaN</td>\n",
       "      <td>NaN</td>\n",
       "      <td>NaN</td>\n",
       "      <td>NaN</td>\n",
       "      <td>NaN</td>\n",
       "      <td>NaN</td>\n",
       "      <td>NaN</td>\n",
       "      <td>NaN</td>\n",
       "      <td>NaN</td>\n",
       "    </tr>\n",
       "    <tr>\n",
       "      <th>4</th>\n",
       "      <td>5</td>\n",
       "      <td>Montpellier</td>\n",
       "      <td>Female</td>\n",
       "      <td>25-34</td>\n",
       "      <td>3</td>\n",
       "      <td>4</td>\n",
       "      <td>Bachelor</td>\n",
       "      <td>167.0</td>\n",
       "      <td>61.0</td>\n",
       "      <td>NaN</td>\n",
       "      <td>...</td>\n",
       "      <td>NaN</td>\n",
       "      <td>NaN</td>\n",
       "      <td>NaN</td>\n",
       "      <td>NaN</td>\n",
       "      <td>NaN</td>\n",
       "      <td>NaN</td>\n",
       "      <td>NaN</td>\n",
       "      <td>NaN</td>\n",
       "      <td>NaN</td>\n",
       "      <td>NaN</td>\n",
       "    </tr>\n",
       "  </tbody>\n",
       "</table>\n",
       "<p>5 rows × 337 columns</p>\n",
       "</div>"
      ],
      "text/plain": [
       "   id         city  gender    age  hh_size  education          education_1  \\\n",
       "0   1     Bordeaux    Male  25-34        4          4  Master or doctorate   \n",
       "1   2        Lille    Male  35-44        1          3             Bachelor   \n",
       "2   3  Montpellier    Male  25-34        2          2  Master or doctorate   \n",
       "3   4         Lyon    Male    <25        1          1             Bachelor   \n",
       "4   5  Montpellier  Female  25-34        3          4             Bachelor   \n",
       "\n",
       "   height  weight  20-6-2013  ...  4-5-2014  5-5-2014  6-5-2014  7-5-2014  \\\n",
       "0   178.0    98.0        NaN  ...       NaN       NaN       NaN       NaN   \n",
       "1   180.0    77.0        NaN  ...       NaN       NaN       NaN       NaN   \n",
       "2   180.0    83.0        NaN  ...    3914.0    4364.0       NaN       NaN   \n",
       "3   178.0    80.0        NaN  ...       NaN       NaN       NaN       NaN   \n",
       "4   167.0    61.0        NaN  ...       NaN       NaN       NaN       NaN   \n",
       "\n",
       "   8-5-2014  9-5-2014  10-5-2014  11-5-2014  12-5-2014  13-5-2014  \n",
       "0       NaN       NaN        NaN        NaN        NaN        NaN  \n",
       "1       NaN       NaN        NaN        NaN        NaN        NaN  \n",
       "2       NaN    6227.0     4567.0     2567.0     1129.0        NaN  \n",
       "3       NaN       NaN        NaN        NaN        NaN        NaN  \n",
       "4       NaN       NaN        NaN        NaN        NaN        NaN  \n",
       "\n",
       "[5 rows x 337 columns]"
      ]
     },
     "execution_count": 2,
     "metadata": {},
     "output_type": "execute_result"
    }
   ],
   "source": [
    "df = pd.merge(df1, df2, on = 'id') #'id' is the common identifier\n",
    "df.head()"
   ]
  },
  {
   "cell_type": "markdown",
   "metadata": {},
   "source": [
    "# Identify the Null Values"
   ]
  },
  {
   "cell_type": "code",
   "execution_count": 5,
   "metadata": {},
   "outputs": [
    {
     "data": {
      "text/html": [
       "<div>\n",
       "<style scoped>\n",
       "    .dataframe tbody tr th:only-of-type {\n",
       "        vertical-align: middle;\n",
       "    }\n",
       "\n",
       "    .dataframe tbody tr th {\n",
       "        vertical-align: top;\n",
       "    }\n",
       "\n",
       "    .dataframe thead th {\n",
       "        text-align: right;\n",
       "    }\n",
       "</style>\n",
       "<table border=\"1\" class=\"dataframe\">\n",
       "  <thead>\n",
       "    <tr style=\"text-align: right;\">\n",
       "      <th></th>\n",
       "      <th>id</th>\n",
       "      <th>city</th>\n",
       "      <th>gender</th>\n",
       "      <th>age</th>\n",
       "      <th>hh_size</th>\n",
       "      <th>education</th>\n",
       "      <th>education_1</th>\n",
       "      <th>height</th>\n",
       "      <th>weight</th>\n",
       "      <th>20-6-2013</th>\n",
       "      <th>...</th>\n",
       "      <th>4-5-2014</th>\n",
       "      <th>5-5-2014</th>\n",
       "      <th>6-5-2014</th>\n",
       "      <th>7-5-2014</th>\n",
       "      <th>8-5-2014</th>\n",
       "      <th>9-5-2014</th>\n",
       "      <th>10-5-2014</th>\n",
       "      <th>11-5-2014</th>\n",
       "      <th>12-5-2014</th>\n",
       "      <th>13-5-2014</th>\n",
       "    </tr>\n",
       "  </thead>\n",
       "  <tbody>\n",
       "    <tr>\n",
       "      <th>0</th>\n",
       "      <td>False</td>\n",
       "      <td>False</td>\n",
       "      <td>False</td>\n",
       "      <td>False</td>\n",
       "      <td>False</td>\n",
       "      <td>False</td>\n",
       "      <td>False</td>\n",
       "      <td>False</td>\n",
       "      <td>False</td>\n",
       "      <td>True</td>\n",
       "      <td>...</td>\n",
       "      <td>True</td>\n",
       "      <td>True</td>\n",
       "      <td>True</td>\n",
       "      <td>True</td>\n",
       "      <td>True</td>\n",
       "      <td>True</td>\n",
       "      <td>True</td>\n",
       "      <td>True</td>\n",
       "      <td>True</td>\n",
       "      <td>True</td>\n",
       "    </tr>\n",
       "    <tr>\n",
       "      <th>1</th>\n",
       "      <td>False</td>\n",
       "      <td>False</td>\n",
       "      <td>False</td>\n",
       "      <td>False</td>\n",
       "      <td>False</td>\n",
       "      <td>False</td>\n",
       "      <td>False</td>\n",
       "      <td>False</td>\n",
       "      <td>False</td>\n",
       "      <td>True</td>\n",
       "      <td>...</td>\n",
       "      <td>True</td>\n",
       "      <td>True</td>\n",
       "      <td>True</td>\n",
       "      <td>True</td>\n",
       "      <td>True</td>\n",
       "      <td>True</td>\n",
       "      <td>True</td>\n",
       "      <td>True</td>\n",
       "      <td>True</td>\n",
       "      <td>True</td>\n",
       "    </tr>\n",
       "    <tr>\n",
       "      <th>2</th>\n",
       "      <td>False</td>\n",
       "      <td>False</td>\n",
       "      <td>False</td>\n",
       "      <td>False</td>\n",
       "      <td>False</td>\n",
       "      <td>False</td>\n",
       "      <td>False</td>\n",
       "      <td>False</td>\n",
       "      <td>False</td>\n",
       "      <td>True</td>\n",
       "      <td>...</td>\n",
       "      <td>False</td>\n",
       "      <td>False</td>\n",
       "      <td>True</td>\n",
       "      <td>True</td>\n",
       "      <td>True</td>\n",
       "      <td>False</td>\n",
       "      <td>False</td>\n",
       "      <td>False</td>\n",
       "      <td>False</td>\n",
       "      <td>True</td>\n",
       "    </tr>\n",
       "    <tr>\n",
       "      <th>3</th>\n",
       "      <td>False</td>\n",
       "      <td>False</td>\n",
       "      <td>False</td>\n",
       "      <td>False</td>\n",
       "      <td>False</td>\n",
       "      <td>False</td>\n",
       "      <td>False</td>\n",
       "      <td>False</td>\n",
       "      <td>False</td>\n",
       "      <td>True</td>\n",
       "      <td>...</td>\n",
       "      <td>True</td>\n",
       "      <td>True</td>\n",
       "      <td>True</td>\n",
       "      <td>True</td>\n",
       "      <td>True</td>\n",
       "      <td>True</td>\n",
       "      <td>True</td>\n",
       "      <td>True</td>\n",
       "      <td>True</td>\n",
       "      <td>True</td>\n",
       "    </tr>\n",
       "    <tr>\n",
       "      <th>4</th>\n",
       "      <td>False</td>\n",
       "      <td>False</td>\n",
       "      <td>False</td>\n",
       "      <td>False</td>\n",
       "      <td>False</td>\n",
       "      <td>False</td>\n",
       "      <td>False</td>\n",
       "      <td>False</td>\n",
       "      <td>False</td>\n",
       "      <td>True</td>\n",
       "      <td>...</td>\n",
       "      <td>True</td>\n",
       "      <td>True</td>\n",
       "      <td>True</td>\n",
       "      <td>True</td>\n",
       "      <td>True</td>\n",
       "      <td>True</td>\n",
       "      <td>True</td>\n",
       "      <td>True</td>\n",
       "      <td>True</td>\n",
       "      <td>True</td>\n",
       "    </tr>\n",
       "    <tr>\n",
       "      <th>...</th>\n",
       "      <td>...</td>\n",
       "      <td>...</td>\n",
       "      <td>...</td>\n",
       "      <td>...</td>\n",
       "      <td>...</td>\n",
       "      <td>...</td>\n",
       "      <td>...</td>\n",
       "      <td>...</td>\n",
       "      <td>...</td>\n",
       "      <td>...</td>\n",
       "      <td>...</td>\n",
       "      <td>...</td>\n",
       "      <td>...</td>\n",
       "      <td>...</td>\n",
       "      <td>...</td>\n",
       "      <td>...</td>\n",
       "      <td>...</td>\n",
       "      <td>...</td>\n",
       "      <td>...</td>\n",
       "      <td>...</td>\n",
       "      <td>...</td>\n",
       "    </tr>\n",
       "    <tr>\n",
       "      <th>924</th>\n",
       "      <td>False</td>\n",
       "      <td>False</td>\n",
       "      <td>False</td>\n",
       "      <td>False</td>\n",
       "      <td>False</td>\n",
       "      <td>False</td>\n",
       "      <td>False</td>\n",
       "      <td>False</td>\n",
       "      <td>False</td>\n",
       "      <td>True</td>\n",
       "      <td>...</td>\n",
       "      <td>True</td>\n",
       "      <td>True</td>\n",
       "      <td>True</td>\n",
       "      <td>True</td>\n",
       "      <td>True</td>\n",
       "      <td>True</td>\n",
       "      <td>True</td>\n",
       "      <td>True</td>\n",
       "      <td>True</td>\n",
       "      <td>True</td>\n",
       "    </tr>\n",
       "    <tr>\n",
       "      <th>925</th>\n",
       "      <td>False</td>\n",
       "      <td>False</td>\n",
       "      <td>False</td>\n",
       "      <td>False</td>\n",
       "      <td>False</td>\n",
       "      <td>False</td>\n",
       "      <td>False</td>\n",
       "      <td>False</td>\n",
       "      <td>False</td>\n",
       "      <td>True</td>\n",
       "      <td>...</td>\n",
       "      <td>True</td>\n",
       "      <td>True</td>\n",
       "      <td>True</td>\n",
       "      <td>True</td>\n",
       "      <td>True</td>\n",
       "      <td>True</td>\n",
       "      <td>True</td>\n",
       "      <td>True</td>\n",
       "      <td>True</td>\n",
       "      <td>True</td>\n",
       "    </tr>\n",
       "    <tr>\n",
       "      <th>926</th>\n",
       "      <td>False</td>\n",
       "      <td>False</td>\n",
       "      <td>False</td>\n",
       "      <td>False</td>\n",
       "      <td>False</td>\n",
       "      <td>False</td>\n",
       "      <td>False</td>\n",
       "      <td>False</td>\n",
       "      <td>False</td>\n",
       "      <td>True</td>\n",
       "      <td>...</td>\n",
       "      <td>True</td>\n",
       "      <td>True</td>\n",
       "      <td>True</td>\n",
       "      <td>True</td>\n",
       "      <td>True</td>\n",
       "      <td>True</td>\n",
       "      <td>True</td>\n",
       "      <td>True</td>\n",
       "      <td>True</td>\n",
       "      <td>True</td>\n",
       "    </tr>\n",
       "    <tr>\n",
       "      <th>927</th>\n",
       "      <td>False</td>\n",
       "      <td>False</td>\n",
       "      <td>False</td>\n",
       "      <td>False</td>\n",
       "      <td>False</td>\n",
       "      <td>False</td>\n",
       "      <td>False</td>\n",
       "      <td>False</td>\n",
       "      <td>False</td>\n",
       "      <td>True</td>\n",
       "      <td>...</td>\n",
       "      <td>True</td>\n",
       "      <td>True</td>\n",
       "      <td>True</td>\n",
       "      <td>True</td>\n",
       "      <td>True</td>\n",
       "      <td>True</td>\n",
       "      <td>True</td>\n",
       "      <td>True</td>\n",
       "      <td>True</td>\n",
       "      <td>True</td>\n",
       "    </tr>\n",
       "    <tr>\n",
       "      <th>928</th>\n",
       "      <td>False</td>\n",
       "      <td>False</td>\n",
       "      <td>False</td>\n",
       "      <td>False</td>\n",
       "      <td>False</td>\n",
       "      <td>False</td>\n",
       "      <td>False</td>\n",
       "      <td>False</td>\n",
       "      <td>False</td>\n",
       "      <td>True</td>\n",
       "      <td>...</td>\n",
       "      <td>True</td>\n",
       "      <td>True</td>\n",
       "      <td>True</td>\n",
       "      <td>True</td>\n",
       "      <td>True</td>\n",
       "      <td>True</td>\n",
       "      <td>True</td>\n",
       "      <td>True</td>\n",
       "      <td>True</td>\n",
       "      <td>True</td>\n",
       "    </tr>\n",
       "  </tbody>\n",
       "</table>\n",
       "<p>929 rows × 337 columns</p>\n",
       "</div>"
      ],
      "text/plain": [
       "        id   city  gender    age  hh_size  education  education_1  height  \\\n",
       "0    False  False   False  False    False      False        False   False   \n",
       "1    False  False   False  False    False      False        False   False   \n",
       "2    False  False   False  False    False      False        False   False   \n",
       "3    False  False   False  False    False      False        False   False   \n",
       "4    False  False   False  False    False      False        False   False   \n",
       "..     ...    ...     ...    ...      ...        ...          ...     ...   \n",
       "924  False  False   False  False    False      False        False   False   \n",
       "925  False  False   False  False    False      False        False   False   \n",
       "926  False  False   False  False    False      False        False   False   \n",
       "927  False  False   False  False    False      False        False   False   \n",
       "928  False  False   False  False    False      False        False   False   \n",
       "\n",
       "     weight  20-6-2013  ...  4-5-2014  5-5-2014  6-5-2014  7-5-2014  8-5-2014  \\\n",
       "0     False       True  ...      True      True      True      True      True   \n",
       "1     False       True  ...      True      True      True      True      True   \n",
       "2     False       True  ...     False     False      True      True      True   \n",
       "3     False       True  ...      True      True      True      True      True   \n",
       "4     False       True  ...      True      True      True      True      True   \n",
       "..      ...        ...  ...       ...       ...       ...       ...       ...   \n",
       "924   False       True  ...      True      True      True      True      True   \n",
       "925   False       True  ...      True      True      True      True      True   \n",
       "926   False       True  ...      True      True      True      True      True   \n",
       "927   False       True  ...      True      True      True      True      True   \n",
       "928   False       True  ...      True      True      True      True      True   \n",
       "\n",
       "     9-5-2014  10-5-2014  11-5-2014  12-5-2014  13-5-2014  \n",
       "0        True       True       True       True       True  \n",
       "1        True       True       True       True       True  \n",
       "2       False      False      False      False       True  \n",
       "3        True       True       True       True       True  \n",
       "4        True       True       True       True       True  \n",
       "..        ...        ...        ...        ...        ...  \n",
       "924      True       True       True       True       True  \n",
       "925      True       True       True       True       True  \n",
       "926      True       True       True       True       True  \n",
       "927      True       True       True       True       True  \n",
       "928      True       True       True       True       True  \n",
       "\n",
       "[929 rows x 337 columns]"
      ]
     },
     "execution_count": 5,
     "metadata": {},
     "output_type": "execute_result"
    }
   ],
   "source": [
    "df.isnull()"
   ]
  },
  {
   "cell_type": "code",
   "execution_count": null,
   "metadata": {},
   "outputs": [],
   "source": [
    "#To find wich columns have the null values and the total number of null values per column."
   ]
  },
  {
   "cell_type": "code",
   "execution_count": 6,
   "metadata": {},
   "outputs": [
    {
     "data": {
      "text/plain": [
       "id             0\n",
       "city           0\n",
       "gender         0\n",
       "age            0\n",
       "hh_size        0\n",
       "            ... \n",
       "9-5-2014     858\n",
       "10-5-2014    843\n",
       "11-5-2014    848\n",
       "12-5-2014    863\n",
       "13-5-2014    929\n",
       "Length: 337, dtype: int64"
      ]
     },
     "execution_count": 6,
     "metadata": {},
     "output_type": "execute_result"
    }
   ],
   "source": [
    "df.isnull().sum()"
   ]
  },
  {
   "cell_type": "markdown",
   "metadata": {},
   "source": [
    "# The heatmap to Plot Null Values "
   ]
  },
  {
   "cell_type": "code",
   "execution_count": null,
   "metadata": {},
   "outputs": [],
   "source": [
    "#Running the heatmap to plot and depict the distributions of null values across the dataset "
   ]
  },
  {
   "cell_type": "code",
   "execution_count": 29,
   "metadata": {},
   "outputs": [
    {
     "data": {
      "text/plain": [
       "<matplotlib.axes._subplots.AxesSubplot at 0x263ef5fc970>"
      ]
     },
     "execution_count": 29,
     "metadata": {},
     "output_type": "execute_result"
    },
    {
     "data": {
      "image/png": "[encoded data removed]",
      "text/plain": [
       "<Figure size 432x288 with 2 Axes>"
      ]
     },
     "metadata": {},
     "output_type": "display_data"
    }
   ],
   "source": [
    "sns.heatmap(df.isnull(),yticklabels=True,cbar=True,cmap='viridis')"
   ]
  },
  {
   "cell_type": "markdown",
   "metadata": {},
   "source": [
    "sns.heatmap(df.isnull(),yticklabels=False,cbar=True,cmap='viridis')"
   ]
  },
  {
   "cell_type": "code",
   "execution_count": 7,
   "metadata": {},
   "outputs": [
    {
     "name": "stdout",
     "output_type": "stream",
     "text": [
      "<class 'pandas.core.frame.DataFrame'>\n",
      "Int64Index: 929 entries, 0 to 928\n",
      "Columns: 337 entries, id to 13-5-2014\n",
      "dtypes: float64(330), int64(3), object(4)\n",
      "memory usage: 2.4+ MB\n"
     ]
    }
   ],
   "source": [
    "df.info()"
   ]
  },
  {
   "cell_type": "code",
   "execution_count": 3,
   "metadata": {},
   "outputs": [
    {
     "data": {
      "text/plain": [
       "Int64Index([  0,   1,   2,   3,   4,   5,   6,   7,   8,   9,\n",
       "            ...\n",
       "            919, 920, 921, 922, 923, 924, 925, 926, 927, 928],\n",
       "           dtype='int64', length=929)"
      ]
     },
     "execution_count": 3,
     "metadata": {},
     "output_type": "execute_result"
    }
   ],
   "source": [
    "#creating the variable for mean steps per participant \n",
    "mean_steps = df.loc[:,\"20-6-2013\": \"13-5-2014\"].mean(axis=1) #getting the mean steps per all rows and storing the result\n",
    "mean_steps.index"
   ]
  },
  {
   "cell_type": "code",
   "execution_count": 7,
   "metadata": {},
   "outputs": [
    {
     "data": {
      "text/html": [
       "<div>\n",
       "<style scoped>\n",
       "    .dataframe tbody tr th:only-of-type {\n",
       "        vertical-align: middle;\n",
       "    }\n",
       "\n",
       "    .dataframe tbody tr th {\n",
       "        vertical-align: top;\n",
       "    }\n",
       "\n",
       "    .dataframe thead th {\n",
       "        text-align: right;\n",
       "    }\n",
       "</style>\n",
       "<table border=\"1\" class=\"dataframe\">\n",
       "  <thead>\n",
       "    <tr style=\"text-align: right;\">\n",
       "      <th></th>\n",
       "      <th>id</th>\n",
       "      <th>city</th>\n",
       "      <th>gender</th>\n",
       "      <th>age</th>\n",
       "      <th>hh_size</th>\n",
       "      <th>education</th>\n",
       "      <th>education_1</th>\n",
       "      <th>height</th>\n",
       "      <th>weight</th>\n",
       "      <th>20-6-2013</th>\n",
       "      <th>...</th>\n",
       "      <th>5-5-2014</th>\n",
       "      <th>6-5-2014</th>\n",
       "      <th>7-5-2014</th>\n",
       "      <th>8-5-2014</th>\n",
       "      <th>9-5-2014</th>\n",
       "      <th>10-5-2014</th>\n",
       "      <th>11-5-2014</th>\n",
       "      <th>12-5-2014</th>\n",
       "      <th>13-5-2014</th>\n",
       "      <th>mean_steps</th>\n",
       "    </tr>\n",
       "  </thead>\n",
       "  <tbody>\n",
       "    <tr>\n",
       "      <th>0</th>\n",
       "      <td>1</td>\n",
       "      <td>Bordeaux</td>\n",
       "      <td>Male</td>\n",
       "      <td>25-34</td>\n",
       "      <td>4</td>\n",
       "      <td>4</td>\n",
       "      <td>Master or doctorate</td>\n",
       "      <td>178.0</td>\n",
       "      <td>98.0</td>\n",
       "      <td>NaN</td>\n",
       "      <td>...</td>\n",
       "      <td>NaN</td>\n",
       "      <td>NaN</td>\n",
       "      <td>NaN</td>\n",
       "      <td>NaN</td>\n",
       "      <td>NaN</td>\n",
       "      <td>NaN</td>\n",
       "      <td>NaN</td>\n",
       "      <td>NaN</td>\n",
       "      <td>NaN</td>\n",
       "      <td>10205.521212</td>\n",
       "    </tr>\n",
       "    <tr>\n",
       "      <th>1</th>\n",
       "      <td>2</td>\n",
       "      <td>Lille</td>\n",
       "      <td>Male</td>\n",
       "      <td>35-44</td>\n",
       "      <td>1</td>\n",
       "      <td>3</td>\n",
       "      <td>Bachelor</td>\n",
       "      <td>180.0</td>\n",
       "      <td>77.0</td>\n",
       "      <td>NaN</td>\n",
       "      <td>...</td>\n",
       "      <td>NaN</td>\n",
       "      <td>NaN</td>\n",
       "      <td>NaN</td>\n",
       "      <td>NaN</td>\n",
       "      <td>NaN</td>\n",
       "      <td>NaN</td>\n",
       "      <td>NaN</td>\n",
       "      <td>NaN</td>\n",
       "      <td>NaN</td>\n",
       "      <td>5687.423313</td>\n",
       "    </tr>\n",
       "    <tr>\n",
       "      <th>2</th>\n",
       "      <td>3</td>\n",
       "      <td>Montpellier</td>\n",
       "      <td>Male</td>\n",
       "      <td>25-34</td>\n",
       "      <td>2</td>\n",
       "      <td>2</td>\n",
       "      <td>Master or doctorate</td>\n",
       "      <td>180.0</td>\n",
       "      <td>83.0</td>\n",
       "      <td>NaN</td>\n",
       "      <td>...</td>\n",
       "      <td>4364.0</td>\n",
       "      <td>NaN</td>\n",
       "      <td>NaN</td>\n",
       "      <td>NaN</td>\n",
       "      <td>6227.0</td>\n",
       "      <td>4567.0</td>\n",
       "      <td>2567.0</td>\n",
       "      <td>1129.0</td>\n",
       "      <td>NaN</td>\n",
       "      <td>8301.729730</td>\n",
       "    </tr>\n",
       "    <tr>\n",
       "      <th>3</th>\n",
       "      <td>4</td>\n",
       "      <td>Lyon</td>\n",
       "      <td>Male</td>\n",
       "      <td>&lt;25</td>\n",
       "      <td>1</td>\n",
       "      <td>1</td>\n",
       "      <td>Bachelor</td>\n",
       "      <td>178.0</td>\n",
       "      <td>80.0</td>\n",
       "      <td>NaN</td>\n",
       "      <td>...</td>\n",
       "      <td>NaN</td>\n",
       "      <td>NaN</td>\n",
       "      <td>NaN</td>\n",
       "      <td>NaN</td>\n",
       "      <td>NaN</td>\n",
       "      <td>NaN</td>\n",
       "      <td>NaN</td>\n",
       "      <td>NaN</td>\n",
       "      <td>NaN</td>\n",
       "      <td>3633.200000</td>\n",
       "    </tr>\n",
       "    <tr>\n",
       "      <th>4</th>\n",
       "      <td>5</td>\n",
       "      <td>Montpellier</td>\n",
       "      <td>Female</td>\n",
       "      <td>25-34</td>\n",
       "      <td>3</td>\n",
       "      <td>4</td>\n",
       "      <td>Bachelor</td>\n",
       "      <td>167.0</td>\n",
       "      <td>61.0</td>\n",
       "      <td>NaN</td>\n",
       "      <td>...</td>\n",
       "      <td>NaN</td>\n",
       "      <td>NaN</td>\n",
       "      <td>NaN</td>\n",
       "      <td>NaN</td>\n",
       "      <td>NaN</td>\n",
       "      <td>NaN</td>\n",
       "      <td>NaN</td>\n",
       "      <td>NaN</td>\n",
       "      <td>NaN</td>\n",
       "      <td>5312.129630</td>\n",
       "    </tr>\n",
       "  </tbody>\n",
       "</table>\n",
       "<p>5 rows × 338 columns</p>\n",
       "</div>"
      ],
      "text/plain": [
       "   id         city  gender    age  hh_size  education          education_1  \\\n",
       "0   1     Bordeaux    Male  25-34        4          4  Master or doctorate   \n",
       "1   2        Lille    Male  35-44        1          3             Bachelor   \n",
       "2   3  Montpellier    Male  25-34        2          2  Master or doctorate   \n",
       "3   4         Lyon    Male    <25        1          1             Bachelor   \n",
       "4   5  Montpellier  Female  25-34        3          4             Bachelor   \n",
       "\n",
       "   height  weight  20-6-2013  ...  5-5-2014  6-5-2014  7-5-2014  8-5-2014  \\\n",
       "0   178.0    98.0        NaN  ...       NaN       NaN       NaN       NaN   \n",
       "1   180.0    77.0        NaN  ...       NaN       NaN       NaN       NaN   \n",
       "2   180.0    83.0        NaN  ...    4364.0       NaN       NaN       NaN   \n",
       "3   178.0    80.0        NaN  ...       NaN       NaN       NaN       NaN   \n",
       "4   167.0    61.0        NaN  ...       NaN       NaN       NaN       NaN   \n",
       "\n",
       "   9-5-2014  10-5-2014  11-5-2014  12-5-2014  13-5-2014    mean_steps  \n",
       "0       NaN        NaN        NaN        NaN        NaN  10205.521212  \n",
       "1       NaN        NaN        NaN        NaN        NaN   5687.423313  \n",
       "2    6227.0     4567.0     2567.0     1129.0        NaN   8301.729730  \n",
       "3       NaN        NaN        NaN        NaN        NaN   3633.200000  \n",
       "4       NaN        NaN        NaN        NaN        NaN   5312.129630  \n",
       "\n",
       "[5 rows x 338 columns]"
      ]
     },
     "execution_count": 7,
     "metadata": {},
     "output_type": "execute_result"
    }
   ],
   "source": [
    "df.loc[:,'mean_steps'] = mean_steps #here we apply the loc in the mean step\n",
    "df.head()"
   ]
  },
  {
   "cell_type": "code",
   "execution_count": 8,
   "metadata": {},
   "outputs": [],
   "source": [
    "#remove the mean steps that are equal to or over 201722.600000 as this is not a reasonable value\n",
    "df.drop(df.loc[df['mean_steps']==201722.600000].index, inplace=True)\n",
    "df_new = df.dropna(subset=['height', 'weight','mean_steps'])"
   ]
  },
  {
   "cell_type": "code",
   "execution_count": 9,
   "metadata": {},
   "outputs": [],
   "source": [
    "#remove the mean steps that are equal to or over 201722.600000 as a way of treaming the data and removing the overflow\n",
    "df.drop(df.loc[df['mean_steps']==201722.600000].index, inplace=True)"
   ]
  },
  {
   "cell_type": "code",
   "execution_count": 10,
   "metadata": {},
   "outputs": [
    {
     "data": {
      "image/png": "[encoded data removed]",
      "text/plain": [
       "<Figure size 1800x432 with 1 Axes>"
      ]
     },
     "metadata": {
      "needs_background": "light"
     },
     "output_type": "display_data"
    }
   ],
   "source": [
    "\n",
    "plt.figure(figsize=(25, 6))  \n",
    "plot = sns.lineplot(x=df_new.id, y=df_new.mean_steps) #creating the lineplot\n",
    " \n",
    "plt.title(\"Mean steps per participants for all dates\") #the title of the lineplot\n",
    "plt.xlabel(\"ID\") # the x-label\n",
    "plt.ylabel(\"Mean Steps\") # the y-label\n",
    "\n",
    "plt.show() #displaying the plot"
   ]
  },
  {
   "cell_type": "code",
   "execution_count": 23,
   "metadata": {},
   "outputs": [
    {
     "data": {
      "text/html": [
       "<div>\n",
       "<style scoped>\n",
       "    .dataframe tbody tr th:only-of-type {\n",
       "        vertical-align: middle;\n",
       "    }\n",
       "\n",
       "    .dataframe tbody tr th {\n",
       "        vertical-align: top;\n",
       "    }\n",
       "\n",
       "    .dataframe thead th {\n",
       "        text-align: right;\n",
       "    }\n",
       "</style>\n",
       "<table border=\"1\" class=\"dataframe\">\n",
       "  <thead>\n",
       "    <tr style=\"text-align: right;\">\n",
       "      <th></th>\n",
       "      <th>gender</th>\n",
       "      <th>age</th>\n",
       "      <th>height</th>\n",
       "      <th>weight</th>\n",
       "      <th>mean_steps</th>\n",
       "    </tr>\n",
       "  </thead>\n",
       "  <tbody>\n",
       "    <tr>\n",
       "      <th>0</th>\n",
       "      <td>Male</td>\n",
       "      <td>25-34</td>\n",
       "      <td>178.0</td>\n",
       "      <td>98.0</td>\n",
       "      <td>10205.521212</td>\n",
       "    </tr>\n",
       "    <tr>\n",
       "      <th>1</th>\n",
       "      <td>Male</td>\n",
       "      <td>35-44</td>\n",
       "      <td>180.0</td>\n",
       "      <td>77.0</td>\n",
       "      <td>5687.423313</td>\n",
       "    </tr>\n",
       "    <tr>\n",
       "      <th>2</th>\n",
       "      <td>Male</td>\n",
       "      <td>25-34</td>\n",
       "      <td>180.0</td>\n",
       "      <td>83.0</td>\n",
       "      <td>8301.729730</td>\n",
       "    </tr>\n",
       "    <tr>\n",
       "      <th>3</th>\n",
       "      <td>Male</td>\n",
       "      <td>&lt;25</td>\n",
       "      <td>178.0</td>\n",
       "      <td>80.0</td>\n",
       "      <td>3633.200000</td>\n",
       "    </tr>\n",
       "    <tr>\n",
       "      <th>4</th>\n",
       "      <td>Female</td>\n",
       "      <td>25-34</td>\n",
       "      <td>167.0</td>\n",
       "      <td>61.0</td>\n",
       "      <td>5312.129630</td>\n",
       "    </tr>\n",
       "  </tbody>\n",
       "</table>\n",
       "</div>"
      ],
      "text/plain": [
       "   gender    age  height  weight    mean_steps\n",
       "0    Male  25-34   178.0    98.0  10205.521212\n",
       "1    Male  35-44   180.0    77.0   5687.423313\n",
       "2    Male  25-34   180.0    83.0   8301.729730\n",
       "3    Male    <25   178.0    80.0   3633.200000\n",
       "4  Female  25-34   167.0    61.0   5312.129630"
      ]
     },
     "execution_count": 23,
     "metadata": {},
     "output_type": "execute_result"
    }
   ],
   "source": [
    "#creating a new subset of the weight and height in relation to mean steps per participants\n",
    "#The relation of meansteps per participant with at least 2 other quantitative variables (how are steps related to weight, height).\n",
    "#Correlation matrix including all 3 variables\n",
    "df_subset = df_new[[\"gender\",\"age\",\"height\", \"weight\", \"mean_steps\"]]\n",
    "df_subset.head()"
   ]
  },
  {
   "cell_type": "code",
   "execution_count": 24,
   "metadata": {},
   "outputs": [
    {
     "data": {
      "image/png": "[encoded data removed]",
      "text/plain": [
       "<Figure size 540x540 with 12 Axes>"
      ]
     },
     "metadata": {
      "needs_background": "light"
     },
     "output_type": "display_data"
    }
   ],
   "source": [
    "#Scatter plots of your variable with the 2 other variables\n",
    "sns.pairplot(df_subset)\n",
    "plt.show()"
   ]
  },
  {
   "cell_type": "code",
   "execution_count": 15,
   "metadata": {},
   "outputs": [
    {
     "name": "stdout",
     "output_type": "stream",
     "text": [
      "(-0.048251859793887054, 0.1434098669580934)\n",
      "(-0.09773421595228018, 0.0029865504494903505)\n"
     ]
    }
   ],
   "source": [
    "#finding the Pearson’s correlation for the 2 relations\n",
    "from scipy.stats.stats import pearsonr #We will need the correlation function from the scientific package scipy\n",
    "print(pearsonr(df_new['mean_steps'],df_new['weight']))\n",
    "print(pearsonr(df_new['mean_steps'],df_new['height']))"
   ]
  },
  {
   "cell_type": "code",
   "execution_count": null,
   "metadata": {},
   "outputs": [],
   "source": [
    "#Participants' weight with mean steps: The Pearsonr Weight r value is -0.07 and the p value is 0.038 Participants' height with mean steps: The Pearsonr Height r value is -0.09 and the p value is 0.006\n",
    "#Therefore the weight and the mean steps do not have a significant correlation"
   ]
  },
  {
   "cell_type": "code",
   "execution_count": 16,
   "metadata": {},
   "outputs": [
    {
     "data": {
      "text/html": [
       "<div>\n",
       "<style scoped>\n",
       "    .dataframe tbody tr th:only-of-type {\n",
       "        vertical-align: middle;\n",
       "    }\n",
       "\n",
       "    .dataframe tbody tr th {\n",
       "        vertical-align: top;\n",
       "    }\n",
       "\n",
       "    .dataframe thead th {\n",
       "        text-align: right;\n",
       "    }\n",
       "</style>\n",
       "<table border=\"1\" class=\"dataframe\">\n",
       "  <thead>\n",
       "    <tr style=\"text-align: right;\">\n",
       "      <th></th>\n",
       "      <th>gender</th>\n",
       "      <th>mean_steps</th>\n",
       "    </tr>\n",
       "  </thead>\n",
       "  <tbody>\n",
       "    <tr>\n",
       "      <th>0</th>\n",
       "      <td>Male</td>\n",
       "      <td>10205.521212</td>\n",
       "    </tr>\n",
       "    <tr>\n",
       "      <th>1</th>\n",
       "      <td>Male</td>\n",
       "      <td>5687.423313</td>\n",
       "    </tr>\n",
       "    <tr>\n",
       "      <th>2</th>\n",
       "      <td>Male</td>\n",
       "      <td>8301.729730</td>\n",
       "    </tr>\n",
       "    <tr>\n",
       "      <th>3</th>\n",
       "      <td>Male</td>\n",
       "      <td>3633.200000</td>\n",
       "    </tr>\n",
       "    <tr>\n",
       "      <th>4</th>\n",
       "      <td>Female</td>\n",
       "      <td>5312.129630</td>\n",
       "    </tr>\n",
       "  </tbody>\n",
       "</table>\n",
       "</div>"
      ],
      "text/plain": [
       "   gender    mean_steps\n",
       "0    Male  10205.521212\n",
       "1    Male   5687.423313\n",
       "2    Male   8301.729730\n",
       "3    Male   3633.200000\n",
       "4  Female   5312.129630"
      ]
     },
     "execution_count": 16,
     "metadata": {},
     "output_type": "execute_result"
    }
   ],
   "source": [
    "#The relation of mean steps per participant with a qualitative variable with two levels\n",
    "df_subset = df_new[['gender', 'mean_steps']]\n",
    "df_subset.head()"
   ]
  },
  {
   "cell_type": "code",
   "execution_count": 17,
   "metadata": {},
   "outputs": [
    {
     "data": {
      "text/plain": [
       "<seaborn.axisgrid.FacetGrid at 0x1a058808cd0>"
      ]
     },
     "execution_count": 17,
     "metadata": {},
     "output_type": "execute_result"
    },
    {
     "data": {
      "image/png": "[encoded data removed]",
      "text/plain": [
       "<Figure size 360x360 with 1 Axes>"
      ]
     },
     "metadata": {
      "needs_background": "light"
     },
     "output_type": "display_data"
    }
   ],
   "source": [
    "#Graphs of the relation (catplot of gender vs mean steps)\n",
    "sns.catplot(x=\"gender\", y=\"mean_steps\", kind = \"bar\", data= df_subset)"
   ]
  },
  {
   "cell_type": "code",
   "execution_count": 19,
   "metadata": {},
   "outputs": [
    {
     "data": {
      "text/plain": [
       "<matplotlib.axes._subplots.AxesSubplot at 0x263ee137220>"
      ]
     },
     "execution_count": 19,
     "metadata": {},
     "output_type": "execute_result"
    },
    {
     "data": {
      "image/png": "[encoded data removed]",
      "text/plain": [
       "<Figure size 432x288 with 1 Axes>"
      ]
     },
     "metadata": {},
     "output_type": "display_data"
    }
   ],
   "source": [
    "#shows the education leval per gender \n",
    "sns.set_style('whitegrid')\n",
    "sns.countplot(x='gender',hue='education_1',data=df) #this code you can customise colours to what you want(palette='RdBu_r)"
   ]
  },
  {
   "cell_type": "code",
   "execution_count": 21,
   "metadata": {},
   "outputs": [
    {
     "name": "stdout",
     "output_type": "stream",
     "text": [
      "The median of Male mean steps is: 6233.628571428571\n",
      "The median of Famale mean steps is: 6332.080141129032\n"
     ]
    }
   ],
   "source": [
    "mean_steps_male = df_new.loc[df_new['gender'] == 'Male']\n",
    "mean_steps_female = df_new.loc[df_new['gender'] == 'Female']\n",
    " \n",
    "median_mean_steps_male = mean_steps_male['mean_steps'].median() \n",
    "median_mean_steps_female = mean_steps_female['mean_steps'].median() \n",
    "print(f'The median of Male mean steps is: {median_mean_steps_male}')  \n",
    "print(f'The median of Famale mean steps is: {median_mean_steps_female}')"
   ]
  },
  {
   "cell_type": "code",
   "execution_count": 22,
   "metadata": {},
   "outputs": [
    {
     "data": {
      "image/png": "[encoded data removed]",
      "text/plain": [
       "<Figure size 432x288 with 1 Axes>"
      ]
     },
     "metadata": {
      "needs_background": "light"
     },
     "output_type": "display_data"
    }
   ],
   "source": [
    "# Lineplot of the relation ( gender vs mean steps)\n",
    "sns.violinplot(x= df_subset.gender, y= df_subset.mean_steps)\n",
    "plt.title('Mean Steps per Gender')\n",
    "sns.swarmplot(x= \"gender\", y = \"mean_steps\", color = \"k\", size = 3, data = df_subset)\n",
    "plt.show()"
   ]
  },
  {
   "cell_type": "code",
   "execution_count": 22,
   "metadata": {},
   "outputs": [
    {
     "data": {
      "text/plain": [
       "<matplotlib.axes._subplots.AxesSubplot at 0x263ecfafdc0>"
      ]
     },
     "execution_count": 22,
     "metadata": {},
     "output_type": "execute_result"
    },
    {
     "data": {
      "image/png": "[encoded data removed]",
      "text/plain": [
       "<Figure size 432x288 with 1 Axes>"
      ]
     },
     "metadata": {},
     "output_type": "display_data"
    }
   ],
   "source": [
    "sns.distplot(df['height'].dropna(),kde=False,color='darkred',bins=40)"
   ]
  },
  {
   "cell_type": "code",
   "execution_count": 28,
   "metadata": {},
   "outputs": [
    {
     "data": {
      "text/plain": [
       "<matplotlib.axes._subplots.AxesSubplot at 0x263ee5b0280>"
      ]
     },
     "execution_count": 28,
     "metadata": {},
     "output_type": "execute_result"
    },
    {
     "data": {
      "image/png": "[encoded data removed]",
      "text/plain": [
       "<Figure size 432x288 with 1 Axes>"
      ]
     },
     "metadata": {},
     "output_type": "display_data"
    }
   ],
   "source": [
    "sns.set_style('whitegrid')\n",
    "sns.countplot(x='education_1',data=df)"
   ]
  },
  {
   "cell_type": "code",
   "execution_count": 32,
   "metadata": {},
   "outputs": [
    {
     "data": {
      "text/plain": [
       "<matplotlib.axes._subplots.AxesSubplot at 0x263f00bd340>"
      ]
     },
     "execution_count": 32,
     "metadata": {},
     "output_type": "execute_result"
    },
    {
     "data": {
      "image/png": "[encoded data removed]",
      "text/plain": [
       "<Figure size 576x288 with 1 Axes>"
      ]
     },
     "metadata": {},
     "output_type": "display_data"
    }
   ],
   "source": [
    "df['age'].hist(color='green',bins=40,figsize=(8,4))"
   ]
  },
  {
   "cell_type": "code",
   "execution_count": 34,
   "metadata": {},
   "outputs": [
    {
     "data": {
      "text/html": [
       "        <script type=\"text/javascript\">\n",
       "        window.PlotlyConfig = {MathJaxConfig: 'local'};\n",
       "        if (window.MathJax) {MathJax.Hub.Config({SVG: {font: \"STIX-Web\"}});}\n",
       "        if (typeof require !== 'undefined') {\n",
       "        require.undef(\"plotly\");\n",
       "        requirejs.config({\n",
       "            paths: {\n",
       "                'plotly': ['https://cdn.plot.ly/plotly-latest.min']\n",
       "            }\n",
       "        });\n",
       "        require(['plotly'], function(Plotly) {\n",
       "            window._Plotly = Plotly;\n",
       "        });\n",
       "        }\n",
       "        </script>\n",
       "        "
      ]
     },
     "metadata": {},
     "output_type": "display_data"
    }
   ],
   "source": [
    "import cufflinks as cf\n",
    "cf.go_offline()"
   ]
  },
  {
   "cell_type": "code",
   "execution_count": 36,
   "metadata": {
    "scrolled": true
   },
   "outputs": [
    {
     "data": {
      "application/vnd.plotly.v1+json": {
       "config": {
        "linkText": "Export to plot.ly",
        "plotlyServerURL": "https://plot.ly",
        "showLink": true
       },
       "data": [
        {
         "histfunc": "count",
         "histnorm": "",
         "marker": {
          "color": "rgba(0, 128, 0, 1.0)",
          "line": {
           "color": "#4D5663",
           "width": 1.3
          }
         },
         "name": "age",
         "nbinsx": 30,
         "opacity": 0.8,
         "orientation": "v",
         "type": "histogram",
         "x": [
          "25-34",
          "35-44",
          "25-34",
          "<25",
          "25-34",
          "35-44",
          "25-34",
          "25-34",
          "35-44",
          "25-34",
          "<25",
          "45-54",
          "25-34",
          "45-54",
          "55-64",
          "25-34",
          "25-34",
          "35-44",
          "25-34",
          "55-64",
          "25-34",
          "45-54",
          "25-34",
          "25-34",
          "55-64",
          "35-44",
          "55-64",
          "35-44",
          "35-44",
          "<25",
          "25-34",
          "25-34",
          "<25",
          "25-34",
          "45-54",
          "25-34",
          "<25",
          "35-44",
          "45-54",
          "25-34",
          "<25",
          "25-34",
          "45-54",
          "35-44",
          "25-34",
          "25-34",
          "25-34",
          "45-54",
          "25-34",
          "55-64",
          "35-44",
          "35-44",
          "25-34",
          "25-34",
          "45-54",
          "65+",
          "25-34",
          "55-64",
          "25-34",
          "25-34",
          "25-34",
          "45-54",
          "<25",
          "45-54",
          "35-44",
          "25-34",
          "25-34",
          "35-44",
          "45-54",
          "<25",
          "35-44",
          "25-34",
          "25-34",
          "<25",
          "25-34",
          "<25",
          "55-64",
          "<25",
          "25-34",
          "25-34",
          "45-54",
          "35-44",
          "55-64",
          "25-34",
          "35-44",
          "25-34",
          "25-34",
          "55-64",
          "<25",
          "25-34",
          "55-64",
          "25-34",
          "25-34",
          "25-34",
          "35-44",
          "25-34",
          "35-44",
          "25-34",
          "25-34",
          "25-34",
          "25-34",
          "<25",
          "25-34",
          "35-44",
          "25-34",
          "25-34",
          "25-34",
          "45-54",
          "35-44",
          "45-54",
          "25-34",
          "25-34",
          "25-34",
          "45-54",
          "25-34",
          "<25",
          "45-54",
          "45-54",
          "<25",
          "<25",
          "45-54",
          "45-54",
          "25-34",
          "25-34",
          "<25",
          "35-44",
          "25-34",
          "25-34",
          "25-34",
          "45-54",
          "35-44",
          "45-54",
          "25-34",
          "25-34",
          "25-34",
          "25-34",
          "45-54",
          "<25",
          "25-34",
          "25-34",
          "55-64",
          "25-34",
          "45-54",
          "35-44",
          "25-34",
          "45-54",
          "45-54",
          "45-54",
          "25-34",
          "35-44",
          "25-34",
          "25-34",
          "25-34",
          "45-54",
          "25-34",
          "25-34",
          "65+",
          "65+",
          "35-44",
          "25-34",
          "25-34",
          "25-34",
          "45-54",
          "25-34",
          "45-54",
          "25-34",
          "45-54",
          "25-34",
          "25-34",
          "25-34",
          "25-34",
          "45-54",
          "25-34",
          "25-34",
          "35-44",
          "35-44",
          "25-34",
          "25-34",
          "<25",
          "25-34",
          "25-34",
          "35-44",
          "35-44",
          "25-34",
          "45-54",
          "25-34",
          "45-54",
          "25-34",
          "35-44",
          "<25",
          "25-34",
          "25-34",
          "<25",
          "45-54",
          "55-64",
          "25-34",
          "25-34",
          "25-34",
          "25-34",
          "25-34",
          "25-34",
          "45-54",
          "<25",
          "45-54",
          "35-44",
          "<25",
          "35-44",
          "35-44",
          "45-54",
          "45-54",
          "25-34",
          "25-34",
          "35-44",
          "25-34",
          "45-54",
          "25-34",
          "25-34",
          "25-34",
          "35-44",
          "25-34",
          "25-34",
          "<25",
          "45-54",
          "35-44",
          "45-54",
          "35-44",
          "<25",
          "25-34",
          "25-34",
          "25-34",
          "25-34",
          "25-34",
          "25-34",
          "25-34",
          "45-54",
          "25-34",
          "25-34",
          "25-34",
          "25-34",
          "25-34",
          "25-34",
          "25-34",
          "45-54",
          "25-34",
          "55-64",
          "25-34",
          "<25",
          "35-44",
          "35-44",
          "25-34",
          "<25",
          "25-34",
          "35-44",
          "35-44",
          "45-54",
          "25-34",
          "<25",
          "25-34",
          "35-44",
          "35-44",
          "55-64",
          "25-34",
          "25-34",
          "25-34",
          "35-44",
          "45-54",
          "25-34",
          "45-54",
          "25-34",
          "45-54",
          "25-34",
          "45-54",
          "25-34",
          "25-34",
          "35-44",
          "45-54",
          "<25",
          "45-54",
          "45-54",
          "45-54",
          "55-64",
          "35-44",
          "45-54",
          "25-34",
          "45-54",
          "45-54",
          "<25",
          "25-34",
          "<25",
          "25-34",
          "<25",
          "25-34",
          "55-64",
          "25-34",
          "25-34",
          "25-34",
          "<25",
          "35-44",
          "45-54",
          "45-54",
          "35-44",
          "25-34",
          "45-54",
          "25-34",
          "25-34",
          "35-44",
          "25-34",
          "35-44",
          "25-34",
          "35-44",
          "55-64",
          "35-44",
          "25-34",
          "25-34",
          "25-34",
          "35-44",
          "35-44",
          "25-34",
          "45-54",
          "25-34",
          "25-34",
          "45-54",
          "25-34",
          "45-54",
          "<25",
          "25-34",
          "<25",
          "25-34",
          "25-34",
          "45-54",
          "<25",
          "35-44",
          "45-54",
          "25-34",
          "25-34",
          "<25",
          "<25",
          "45-54",
          "25-34",
          "25-34",
          "25-34",
          "25-34",
          "25-34",
          "25-34",
          "45-54",
          "35-44",
          "25-34",
          "<25",
          "25-34",
          "25-34",
          "25-34",
          "25-34",
          "25-34",
          "45-54",
          "25-34",
          "25-34",
          "<25",
          "45-54",
          "45-54",
          "45-54",
          "<25",
          "25-34",
          "35-44",
          "35-44",
          "25-34",
          "35-44",
          "65+",
          "25-34",
          "25-34",
          "25-34",
          "55-64",
          "45-54",
          "<25",
          "35-44",
          "25-34",
          "35-44",
          "35-44",
          "45-54",
          "25-34",
          "35-44",
          "<25",
          "35-44",
          "25-34",
          "35-44",
          "25-34",
          "25-34",
          "35-44",
          "25-34",
          "35-44",
          "25-34",
          "35-44",
          "45-54",
          "35-44",
          "25-34",
          "25-34",
          "25-34",
          "45-54",
          "35-44",
          "35-44",
          "25-34",
          "25-34",
          "25-34",
          "35-44",
          "25-34",
          "<25",
          "65+",
          "35-44",
          "25-34",
          "25-34",
          "25-34",
          "<25",
          "25-34",
          "25-34",
          "25-34",
          "35-44",
          "35-44",
          "25-34",
          "<25",
          "<25",
          "25-34",
          "45-54",
          "35-44",
          "25-34",
          "25-34",
          "35-44",
          "<25",
          "<25",
          "<25",
          "<25",
          "35-44",
          "55-64",
          "25-34",
          "25-34",
          "35-44",
          "35-44",
          "<25",
          "55-64",
          "25-34",
          "25-34",
          "25-34",
          "45-54",
          "25-34",
          "25-34",
          "25-34",
          "35-44",
          "25-34",
          "35-44",
          "45-54",
          "25-34",
          "25-34",
          "<25",
          "25-34",
          "55-64",
          "35-44",
          "35-44",
          "25-34",
          "25-34",
          "55-64",
          "35-44",
          "<25",
          "35-44",
          "35-44",
          "25-34",
          "35-44",
          "25-34",
          "35-44",
          "25-34",
          "25-34",
          "25-34",
          "25-34",
          "35-44",
          "45-54",
          "35-44",
          "45-54",
          "25-34",
          "25-34",
          "25-34",
          "<25",
          "35-44",
          "45-54",
          "25-34",
          "55-64",
          "55-64",
          "55-64",
          "35-44",
          "25-34",
          "35-44",
          "25-34",
          "<25",
          "25-34",
          "25-34",
          "<25",
          "45-54",
          "<25",
          "25-34",
          "35-44",
          "55-64",
          "25-34",
          "25-34",
          "55-64",
          "25-34",
          "<25",
          "25-34",
          "45-54",
          "<25",
          "45-54",
          "45-54",
          "<25",
          "25-34",
          "45-54",
          "45-54",
          "25-34",
          "45-54",
          "45-54",
          "25-34",
          "55-64",
          "35-44",
          "45-54",
          "35-44",
          "35-44",
          "55-64",
          "25-34",
          "35-44",
          "<25",
          "25-34",
          "25-34",
          "<25",
          "<25",
          "45-54",
          "<25",
          "<25",
          "25-34",
          "25-34",
          "<25",
          "45-54",
          "45-54",
          "25-34",
          "45-54",
          "25-34",
          "25-34",
          "35-44",
          "45-54",
          "25-34",
          "35-44",
          "25-34",
          "35-44",
          "<25",
          "25-34",
          "25-34",
          "45-54",
          "25-34",
          "35-44",
          "55-64",
          "45-54",
          "25-34",
          "35-44",
          "25-34",
          "35-44",
          "45-54",
          "45-54",
          "25-34",
          "25-34",
          "25-34",
          "25-34",
          "35-44",
          "25-34",
          "25-34",
          "45-54",
          "35-44",
          "35-44",
          "25-34",
          "25-34",
          "<25",
          "25-34",
          "25-34",
          "25-34",
          "25-34",
          "25-34",
          "25-34",
          "<25",
          "35-44",
          "35-44",
          "25-34",
          "25-34",
          "35-44",
          "25-34",
          "<25",
          "<25",
          "35-44",
          "35-44",
          "<25",
          "35-44",
          "35-44",
          "<25",
          "25-34",
          "45-54",
          "35-44",
          "25-34",
          "45-54",
          "25-34",
          "25-34",
          "25-34",
          "25-34",
          "25-34",
          "25-34",
          "25-34",
          "55-64",
          "25-34",
          "25-34",
          "25-34",
          "<25",
          "25-34",
          "25-34",
          "25-34",
          "<25",
          "45-54",
          "25-34",
          "35-44",
          "25-34",
          "35-44",
          "35-44",
          "25-34",
          "25-34",
          "25-34",
          "35-44",
          "25-34",
          "25-34",
          "45-54",
          "25-34",
          "35-44",
          "45-54",
          "25-34",
          "<25",
          "25-34",
          "35-44",
          "25-34",
          "25-34",
          "25-34",
          "55-64",
          "25-34",
          "35-44",
          "35-44",
          "35-44",
          "<25",
          "25-34",
          "25-34",
          "35-44",
          "25-34",
          "<25",
          "25-34",
          "45-54",
          "25-34",
          "25-34",
          "25-34",
          "25-34",
          "25-34",
          "25-34",
          "25-34",
          "55-64",
          "45-54",
          "25-34",
          "45-54",
          "35-44",
          "25-34",
          "25-34",
          "<25",
          "35-44",
          "45-54",
          "25-34",
          "25-34",
          "25-34",
          "25-34",
          "25-34",
          "25-34",
          "25-34",
          "25-34",
          "<25",
          "25-34",
          "25-34",
          "35-44",
          "35-44",
          "45-54",
          "25-34",
          "45-54",
          "25-34",
          "25-34",
          "25-34",
          "25-34",
          "35-44",
          "<25",
          "25-34",
          "<25",
          "35-44",
          "<25",
          "35-44",
          "<25",
          "35-44",
          "45-54",
          "25-34",
          "45-54",
          "25-34",
          "55-64",
          "25-34",
          "25-34",
          "25-34",
          "25-34",
          "25-34",
          "25-34",
          "25-34",
          "25-34",
          "<25",
          "45-54",
          "25-34",
          "25-34",
          "25-34",
          "25-34",
          "35-44",
          "45-54",
          "45-54",
          "25-34",
          "25-34",
          "25-34",
          "25-34",
          "<25",
          "35-44",
          "<25",
          "25-34",
          "45-54",
          "25-34",
          "<25",
          "45-54",
          "25-34",
          "25-34",
          "<25",
          "25-34",
          "55-64",
          "25-34",
          "35-44",
          "<25",
          "35-44",
          "<25",
          "25-34",
          "35-44",
          "35-44",
          "<25",
          "25-34",
          "25-34",
          "25-34",
          "25-34",
          "25-34",
          "25-34",
          "25-34",
          "25-34",
          "35-44",
          "35-44",
          "45-54",
          "35-44",
          "35-44",
          "25-34",
          "25-34",
          "25-34",
          "35-44",
          "<25",
          "45-54",
          "25-34",
          "55-64",
          "35-44",
          "25-34",
          "<25",
          "25-34",
          "45-54",
          "25-34",
          "45-54",
          "45-54",
          "25-34",
          "25-34",
          "25-34",
          "45-54",
          "65+",
          "55-64",
          "35-44",
          "25-34",
          "35-44",
          "35-44",
          "<25",
          "45-54",
          "45-54",
          "25-34",
          "25-34",
          "35-44",
          "25-34",
          "25-34",
          "<25",
          "<25",
          "35-44",
          "45-54",
          "55-64",
          "25-34",
          "35-44",
          "25-34",
          "<25",
          "35-44",
          "25-34",
          "25-34",
          "25-34",
          "35-44",
          "45-54",
          "45-54",
          "25-34",
          "45-54",
          "25-34",
          "<25",
          "25-34",
          "25-34",
          "35-44",
          "25-34",
          "<25",
          "25-34",
          "35-44",
          "45-54",
          "25-34",
          "25-34",
          "35-44",
          "<25",
          "45-54",
          "25-34",
          "35-44",
          "<25",
          "<25",
          "25-34",
          "<25",
          "25-34",
          "25-34",
          "25-34",
          "55-64",
          "55-64",
          "25-34",
          "25-34",
          "25-34",
          "25-34",
          "35-44",
          "35-44",
          "25-34",
          "35-44",
          "25-34",
          "35-44",
          "45-54",
          "55-64",
          "<25",
          "35-44",
          "45-54",
          "45-54",
          "25-34",
          "25-34",
          "35-44",
          "25-34",
          "45-54",
          "25-34",
          "45-54",
          "45-54",
          "55-64",
          "25-34",
          "25-34",
          "35-44",
          "45-54",
          "<25",
          "45-54",
          "25-34",
          "25-34",
          "65+",
          "55-64",
          "<25",
          "35-44",
          "25-34",
          "45-54",
          "35-44",
          "<25",
          "25-34",
          "<25",
          "45-54",
          "45-54",
          "45-54",
          "<25",
          "25-34",
          "<25",
          "35-44",
          "<25",
          "<25",
          "35-44",
          "<25",
          "45-54",
          "<25",
          "45-54",
          "35-44",
          "<25",
          "25-34",
          "35-44",
          "<25",
          "25-34",
          "55-64",
          "<25",
          "<25",
          "25-34",
          "25-34",
          "35-44",
          "25-34",
          "25-34",
          "45-54",
          "<25",
          "<25",
          "35-44",
          "55-64",
          "25-34",
          "45-54",
          "25-34",
          "35-44",
          "25-34",
          "35-44",
          "<25",
          "25-34",
          "35-44",
          "25-34",
          "35-44",
          "<25",
          "45-54",
          "<25",
          "35-44",
          "55-64",
          "25-34"
         ]
        }
       ],
       "layout": {
        "barmode": "overlay",
        "legend": {
         "bgcolor": "#F5F6F9",
         "font": {
          "color": "#4D5663"
         }
        },
        "paper_bgcolor": "#F5F6F9",
        "plot_bgcolor": "#F5F6F9",
        "template": {
         "data": {
          "bar": [
           {
            "error_x": {
             "color": "#2a3f5f"
            },
            "error_y": {
             "color": "#2a3f5f"
            },
            "marker": {
             "line": {
              "color": "#E5ECF6",
              "width": 0.5
             }
            },
            "type": "bar"
           }
          ],
          "barpolar": [
           {
            "marker": {
             "line": {
              "color": "#E5ECF6",
              "width": 0.5
             }
            },
            "type": "barpolar"
           }
          ],
          "carpet": [
           {
            "aaxis": {
             "endlinecolor": "#2a3f5f",
             "gridcolor": "white",
             "linecolor": "white",
             "minorgridcolor": "white",
             "startlinecolor": "#2a3f5f"
            },
            "baxis": {
             "endlinecolor": "#2a3f5f",
             "gridcolor": "white",
             "linecolor": "white",
             "minorgridcolor": "white",
             "startlinecolor": "#2a3f5f"
            },
            "type": "carpet"
           }
          ],
          "choropleth": [
           {
            "colorbar": {
             "outlinewidth": 0,
             "ticks": ""
            },
            "type": "choropleth"
           }
          ],
          "contour": [
           {
            "colorbar": {
             "outlinewidth": 0,
             "ticks": ""
            },
            "colorscale": [
             [
              0,
              "#0d0887"
             ],
             [
              0.1111111111111111,
              "#46039f"
             ],
             [
              0.2222222222222222,
              "#7201a8"
             ],
             [
              0.3333333333333333,
              "#9c179e"
             ],
             [
              0.4444444444444444,
              "#bd3786"
             ],
             [
              0.5555555555555556,
              "#d8576b"
             ],
             [
              0.6666666666666666,
              "#ed7953"
             ],
             [
              0.7777777777777778,
              "#fb9f3a"
             ],
             [
              0.8888888888888888,
              "#fdca26"
             ],
             [
              1,
              "#f0f921"
             ]
            ],
            "type": "contour"
           }
          ],
          "contourcarpet": [
           {
            "colorbar": {
             "outlinewidth": 0,
             "ticks": ""
            },
            "type": "contourcarpet"
           }
          ],
          "heatmap": [
           {
            "colorbar": {
             "outlinewidth": 0,
             "ticks": ""
            },
            "colorscale": [
             [
              0,
              "#0d0887"
             ],
             [
              0.1111111111111111,
              "#46039f"
             ],
             [
              0.2222222222222222,
              "#7201a8"
             ],
             [
              0.3333333333333333,
              "#9c179e"
             ],
             [
              0.4444444444444444,
              "#bd3786"
             ],
             [
              0.5555555555555556,
              "#d8576b"
             ],
             [
              0.6666666666666666,
              "#ed7953"
             ],
             [
              0.7777777777777778,
              "#fb9f3a"
             ],
             [
              0.8888888888888888,
              "#fdca26"
             ],
             [
              1,
              "#f0f921"
             ]
            ],
            "type": "heatmap"
           }
          ],
          "heatmapgl": [
           {
            "colorbar": {
             "outlinewidth": 0,
             "ticks": ""
            },
            "colorscale": [
             [
              0,
              "#0d0887"
             ],
             [
              0.1111111111111111,
              "#46039f"
             ],
             [
              0.2222222222222222,
              "#7201a8"
             ],
             [
              0.3333333333333333,
              "#9c179e"
             ],
             [
              0.4444444444444444,
              "#bd3786"
             ],
             [
              0.5555555555555556,
              "#d8576b"
             ],
             [
              0.6666666666666666,
              "#ed7953"
             ],
             [
              0.7777777777777778,
              "#fb9f3a"
             ],
             [
              0.8888888888888888,
              "#fdca26"
             ],
             [
              1,
              "#f0f921"
             ]
            ],
            "type": "heatmapgl"
           }
          ],
          "histogram": [
           {
            "marker": {
             "colorbar": {
              "outlinewidth": 0,
              "ticks": ""
             }
            },
            "type": "histogram"
           }
          ],
          "histogram2d": [
           {
            "colorbar": {
             "outlinewidth": 0,
             "ticks": ""
            },
            "colorscale": [
             [
              0,
              "#0d0887"
             ],
             [
              0.1111111111111111,
              "#46039f"
             ],
             [
              0.2222222222222222,
              "#7201a8"
             ],
             [
              0.3333333333333333,
              "#9c179e"
             ],
             [
              0.4444444444444444,
              "#bd3786"
             ],
             [
              0.5555555555555556,
              "#d8576b"
             ],
             [
              0.6666666666666666,
              "#ed7953"
             ],
             [
              0.7777777777777778,
              "#fb9f3a"
             ],
             [
              0.8888888888888888,
              "#fdca26"
             ],
             [
              1,
              "#f0f921"
             ]
            ],
            "type": "histogram2d"
           }
          ],
          "histogram2dcontour": [
           {
            "colorbar": {
             "outlinewidth": 0,
             "ticks": ""
            },
            "colorscale": [
             [
              0,
              "#0d0887"
             ],
             [
              0.1111111111111111,
              "#46039f"
             ],
             [
              0.2222222222222222,
              "#7201a8"
             ],
             [
              0.3333333333333333,
              "#9c179e"
             ],
             [
              0.4444444444444444,
              "#bd3786"
             ],
             [
              0.5555555555555556,
              "#d8576b"
             ],
             [
              0.6666666666666666,
              "#ed7953"
             ],
             [
              0.7777777777777778,
              "#fb9f3a"
             ],
             [
              0.8888888888888888,
              "#fdca26"
             ],
             [
              1,
              "#f0f921"
             ]
            ],
            "type": "histogram2dcontour"
           }
          ],
          "mesh3d": [
           {
            "colorbar": {
             "outlinewidth": 0,
             "ticks": ""
            },
            "type": "mesh3d"
           }
          ],
          "parcoords": [
           {
            "line": {
             "colorbar": {
              "outlinewidth": 0,
              "ticks": ""
             }
            },
            "type": "parcoords"
           }
          ],
          "pie": [
           {
            "automargin": true,
            "type": "pie"
           }
          ],
          "scatter": [
           {
            "marker": {
             "colorbar": {
              "outlinewidth": 0,
              "ticks": ""
             }
            },
            "type": "scatter"
           }
          ],
          "scatter3d": [
           {
            "line": {
             "colorbar": {
              "outlinewidth": 0,
              "ticks": ""
             }
            },
            "marker": {
             "colorbar": {
              "outlinewidth": 0,
              "ticks": ""
             }
            },
            "type": "scatter3d"
           }
          ],
          "scattercarpet": [
           {
            "marker": {
             "colorbar": {
              "outlinewidth": 0,
              "ticks": ""
             }
            },
            "type": "scattercarpet"
           }
          ],
          "scattergeo": [
           {
            "marker": {
             "colorbar": {
              "outlinewidth": 0,
              "ticks": ""
             }
            },
            "type": "scattergeo"
           }
          ],
          "scattergl": [
           {
            "marker": {
             "colorbar": {
              "outlinewidth": 0,
              "ticks": ""
             }
            },
            "type": "scattergl"
           }
          ],
          "scattermapbox": [
           {
            "marker": {
             "colorbar": {
              "outlinewidth": 0,
              "ticks": ""
             }
            },
            "type": "scattermapbox"
           }
          ],
          "scatterpolar": [
           {
            "marker": {
             "colorbar": {
              "outlinewidth": 0,
              "ticks": ""
             }
            },
            "type": "scatterpolar"
           }
          ],
          "scatterpolargl": [
           {
            "marker": {
             "colorbar": {
              "outlinewidth": 0,
              "ticks": ""
             }
            },
            "type": "scatterpolargl"
           }
          ],
          "scatterternary": [
           {
            "marker": {
             "colorbar": {
              "outlinewidth": 0,
              "ticks": ""
             }
            },
            "type": "scatterternary"
           }
          ],
          "surface": [
           {
            "colorbar": {
             "outlinewidth": 0,
             "ticks": ""
            },
            "colorscale": [
             [
              0,
              "#0d0887"
             ],
             [
              0.1111111111111111,
              "#46039f"
             ],
             [
              0.2222222222222222,
              "#7201a8"
             ],
             [
              0.3333333333333333,
              "#9c179e"
             ],
             [
              0.4444444444444444,
              "#bd3786"
             ],
             [
              0.5555555555555556,
              "#d8576b"
             ],
             [
              0.6666666666666666,
              "#ed7953"
             ],
             [
              0.7777777777777778,
              "#fb9f3a"
             ],
             [
              0.8888888888888888,
              "#fdca26"
             ],
             [
              1,
              "#f0f921"
             ]
            ],
            "type": "surface"
           }
          ],
          "table": [
           {
            "cells": {
             "fill": {
              "color": "#EBF0F8"
             },
             "line": {
              "color": "white"
             }
            },
            "header": {
             "fill": {
              "color": "#C8D4E3"
             },
             "line": {
              "color": "white"
             }
            },
            "type": "table"
           }
          ]
         },
         "layout": {
          "annotationdefaults": {
           "arrowcolor": "#2a3f5f",
           "arrowhead": 0,
           "arrowwidth": 1
          },
          "coloraxis": {
           "colorbar": {
            "outlinewidth": 0,
            "ticks": ""
           }
          },
          "colorscale": {
           "diverging": [
            [
             0,
             "#8e0152"
            ],
            [
             0.1,
             "#c51b7d"
            ],
            [
             0.2,
             "#de77ae"
            ],
            [
             0.3,
             "#f1b6da"
            ],
            [
             0.4,
             "#fde0ef"
            ],
            [
             0.5,
             "#f7f7f7"
            ],
            [
             0.6,
             "#e6f5d0"
            ],
            [
             0.7,
             "#b8e186"
            ],
            [
             0.8,
             "#7fbc41"
            ],
            [
             0.9,
             "#4d9221"
            ],
            [
             1,
             "#276419"
            ]
           ],
           "sequential": [
            [
             0,
             "#0d0887"
            ],
            [
             0.1111111111111111,
             "#46039f"
            ],
            [
             0.2222222222222222,
             "#7201a8"
            ],
            [
             0.3333333333333333,
             "#9c179e"
            ],
            [
             0.4444444444444444,
             "#bd3786"
            ],
            [
             0.5555555555555556,
             "#d8576b"
            ],
            [
             0.6666666666666666,
             "#ed7953"
            ],
            [
             0.7777777777777778,
             "#fb9f3a"
            ],
            [
             0.8888888888888888,
             "#fdca26"
            ],
            [
             1,
             "#f0f921"
            ]
           ],
           "sequentialminus": [
            [
             0,
             "#0d0887"
            ],
            [
             0.1111111111111111,
             "#46039f"
            ],
            [
             0.2222222222222222,
             "#7201a8"
            ],
            [
             0.3333333333333333,
             "#9c179e"
            ],
            [
             0.4444444444444444,
             "#bd3786"
            ],
            [
             0.5555555555555556,
             "#d8576b"
            ],
            [
             0.6666666666666666,
             "#ed7953"
            ],
            [
             0.7777777777777778,
             "#fb9f3a"
            ],
            [
             0.8888888888888888,
             "#fdca26"
            ],
            [
             1,
             "#f0f921"
            ]
           ]
          },
          "colorway": [
           "#636efa",
           "#EF553B",
           "#00cc96",
           "#ab63fa",
           "#FFA15A",
           "#19d3f3",
           "#FF6692",
           "#B6E880",
           "#FF97FF",
           "#FECB52"
          ],
          "font": {
           "color": "#2a3f5f"
          },
          "geo": {
           "bgcolor": "white",
           "lakecolor": "white",
           "landcolor": "#E5ECF6",
           "showlakes": true,
           "showland": true,
           "subunitcolor": "white"
          },
          "hoverlabel": {
           "align": "left"
          },
          "hovermode": "closest",
          "mapbox": {
           "style": "light"
          },
          "paper_bgcolor": "white",
          "plot_bgcolor": "#E5ECF6",
          "polar": {
           "angularaxis": {
            "gridcolor": "white",
            "linecolor": "white",
            "ticks": ""
           },
           "bgcolor": "#E5ECF6",
           "radialaxis": {
            "gridcolor": "white",
            "linecolor": "white",
            "ticks": ""
           }
          },
          "scene": {
           "xaxis": {
            "backgroundcolor": "#E5ECF6",
            "gridcolor": "white",
            "gridwidth": 2,
            "linecolor": "white",
            "showbackground": true,
            "ticks": "",
            "zerolinecolor": "white"
           },
           "yaxis": {
            "backgroundcolor": "#E5ECF6",
            "gridcolor": "white",
            "gridwidth": 2,
            "linecolor": "white",
            "showbackground": true,
            "ticks": "",
            "zerolinecolor": "white"
           },
           "zaxis": {
            "backgroundcolor": "#E5ECF6",
            "gridcolor": "white",
            "gridwidth": 2,
            "linecolor": "white",
            "showbackground": true,
            "ticks": "",
            "zerolinecolor": "white"
           }
          },
          "shapedefaults": {
           "line": {
            "color": "#2a3f5f"
           }
          },
          "ternary": {
           "aaxis": {
            "gridcolor": "white",
            "linecolor": "white",
            "ticks": ""
           },
           "baxis": {
            "gridcolor": "white",
            "linecolor": "white",
            "ticks": ""
           },
           "bgcolor": "#E5ECF6",
           "caxis": {
            "gridcolor": "white",
            "linecolor": "white",
            "ticks": ""
           }
          },
          "title": {
           "x": 0.05
          },
          "xaxis": {
           "automargin": true,
           "gridcolor": "white",
           "linecolor": "white",
           "ticks": "",
           "title": {
            "standoff": 15
           },
           "zerolinecolor": "white",
           "zerolinewidth": 2
          },
          "yaxis": {
           "automargin": true,
           "gridcolor": "white",
           "linecolor": "white",
           "ticks": "",
           "title": {
            "standoff": 15
           },
           "zerolinecolor": "white",
           "zerolinewidth": 2
          }
         }
        },
        "title": {
         "font": {
          "color": "#4D5663"
         }
        },
        "xaxis": {
         "gridcolor": "#E1E5ED",
         "showgrid": true,
         "tickfont": {
          "color": "#4D5663"
         },
         "title": {
          "font": {
           "color": "#4D5663"
          },
          "text": ""
         },
         "zerolinecolor": "#E1E5ED"
        },
        "yaxis": {
         "gridcolor": "#E1E5ED",
         "showgrid": true,
         "tickfont": {
          "color": "#4D5663"
         },
         "title": {
          "font": {
           "color": "#4D5663"
          },
          "text": ""
         },
         "zerolinecolor": "#E1E5ED"
        }
       }
      },
      "text/html": [
       "<div>                            <div id=\"46db60e2-2b5d-4026-9647-78d885035ad4\" class=\"plotly-graph-div\" style=\"height:525px; width:100%;\"></div>            <script type=\"text/javascript\">                require([\"plotly\"], function(Plotly) {                    window.PLOTLYENV=window.PLOTLYENV || {};\n",
       "                    window.PLOTLYENV.BASE_URL='https://plot.ly';                                    if (document.getElementById(\"46db60e2-2b5d-4026-9647-78d885035ad4\")) {                    Plotly.newPlot(                        \"46db60e2-2b5d-4026-9647-78d885035ad4\",                        [{\"histfunc\": \"count\", \"histnorm\": \"\", \"marker\": {\"color\": \"rgba(0, 128, 0, 1.0)\", \"line\": {\"color\": \"#4D5663\", \"width\": 1.3}}, \"name\": \"age\", \"nbinsx\": 30, \"opacity\": 0.8, \"orientation\": \"v\", \"type\": \"histogram\", \"x\": [\"25-34\", \"35-44\", \"25-34\", \"<25\", \"25-34\", \"35-44\", \"25-34\", \"25-34\", \"35-44\", \"25-34\", \"<25\", \"45-54\", \"25-34\", \"45-54\", \"55-64\", \"25-34\", \"25-34\", \"35-44\", \"25-34\", \"55-64\", \"25-34\", \"45-54\", \"25-34\", \"25-34\", \"55-64\", \"35-44\", \"55-64\", \"35-44\", \"35-44\", \"<25\", \"25-34\", \"25-34\", \"<25\", \"25-34\", \"45-54\", \"25-34\", \"<25\", \"35-44\", \"45-54\", \"25-34\", \"<25\", \"25-34\", \"45-54\", \"35-44\", \"25-34\", \"25-34\", \"25-34\", \"45-54\", \"25-34\", \"55-64\", \"35-44\", \"35-44\", \"25-34\", \"25-34\", \"45-54\", \"65+\", \"25-34\", \"55-64\", \"25-34\", \"25-34\", \"25-34\", \"45-54\", \"<25\", \"45-54\", \"35-44\", \"25-34\", \"25-34\", \"35-44\", \"45-54\", \"<25\", \"35-44\", \"25-34\", \"25-34\", \"<25\", \"25-34\", \"<25\", \"55-64\", \"<25\", \"25-34\", \"25-34\", \"45-54\", \"35-44\", \"55-64\", \"25-34\", \"35-44\", \"25-34\", \"25-34\", \"55-64\", \"<25\", \"25-34\", \"55-64\", \"25-34\", \"25-34\", \"25-34\", \"35-44\", \"25-34\", \"35-44\", \"25-34\", \"25-34\", \"25-34\", \"25-34\", \"<25\", \"25-34\", \"35-44\", \"25-34\", \"25-34\", \"25-34\", \"45-54\", \"35-44\", \"45-54\", \"25-34\", \"25-34\", \"25-34\", \"45-54\", \"25-34\", \"<25\", \"45-54\", \"45-54\", \"<25\", \"<25\", \"45-54\", \"45-54\", \"25-34\", \"25-34\", \"<25\", \"35-44\", \"25-34\", \"25-34\", \"25-34\", \"45-54\", \"35-44\", \"45-54\", \"25-34\", \"25-34\", \"25-34\", \"25-34\", \"45-54\", \"<25\", \"25-34\", \"25-34\", \"55-64\", \"25-34\", \"45-54\", \"35-44\", \"25-34\", \"45-54\", \"45-54\", \"45-54\", \"25-34\", \"35-44\", \"25-34\", \"25-34\", \"25-34\", \"45-54\", \"25-34\", \"25-34\", \"65+\", \"65+\", \"35-44\", \"25-34\", \"25-34\", \"25-34\", \"45-54\", \"25-34\", \"45-54\", \"25-34\", \"45-54\", \"25-34\", \"25-34\", \"25-34\", \"25-34\", \"45-54\", \"25-34\", \"25-34\", \"35-44\", \"35-44\", \"25-34\", \"25-34\", \"<25\", \"25-34\", \"25-34\", \"35-44\", \"35-44\", \"25-34\", \"45-54\", \"25-34\", \"45-54\", \"25-34\", \"35-44\", \"<25\", \"25-34\", \"25-34\", \"<25\", \"45-54\", \"55-64\", \"25-34\", \"25-34\", \"25-34\", \"25-34\", \"25-34\", \"25-34\", \"45-54\", \"<25\", \"45-54\", \"35-44\", \"<25\", \"35-44\", \"35-44\", \"45-54\", \"45-54\", \"25-34\", \"25-34\", \"35-44\", \"25-34\", \"45-54\", \"25-34\", \"25-34\", \"25-34\", \"35-44\", \"25-34\", \"25-34\", \"<25\", \"45-54\", \"35-44\", \"45-54\", \"35-44\", \"<25\", \"25-34\", \"25-34\", \"25-34\", \"25-34\", \"25-34\", \"25-34\", \"25-34\", \"45-54\", \"25-34\", \"25-34\", \"25-34\", \"25-34\", \"25-34\", \"25-34\", \"25-34\", \"45-54\", \"25-34\", \"55-64\", \"25-34\", \"<25\", \"35-44\", \"35-44\", \"25-34\", \"<25\", \"25-34\", \"35-44\", \"35-44\", \"45-54\", \"25-34\", \"<25\", \"25-34\", \"35-44\", \"35-44\", \"55-64\", \"25-34\", \"25-34\", \"25-34\", \"35-44\", \"45-54\", \"25-34\", \"45-54\", \"25-34\", \"45-54\", \"25-34\", \"45-54\", \"25-34\", \"25-34\", \"35-44\", \"45-54\", \"<25\", \"45-54\", \"45-54\", \"45-54\", \"55-64\", \"35-44\", \"45-54\", \"25-34\", \"45-54\", \"45-54\", \"<25\", \"25-34\", \"<25\", \"25-34\", \"<25\", \"25-34\", \"55-64\", \"25-34\", \"25-34\", \"25-34\", \"<25\", \"35-44\", \"45-54\", \"45-54\", \"35-44\", \"25-34\", \"45-54\", \"25-34\", \"25-34\", \"35-44\", \"25-34\", \"35-44\", \"25-34\", \"35-44\", \"55-64\", \"35-44\", \"25-34\", \"25-34\", \"25-34\", \"35-44\", \"35-44\", \"25-34\", \"45-54\", \"25-34\", \"25-34\", \"45-54\", \"25-34\", \"45-54\", \"<25\", \"25-34\", \"<25\", \"25-34\", \"25-34\", \"45-54\", \"<25\", \"35-44\", \"45-54\", \"25-34\", \"25-34\", \"<25\", \"<25\", \"45-54\", \"25-34\", \"25-34\", \"25-34\", \"25-34\", \"25-34\", \"25-34\", \"45-54\", \"35-44\", \"25-34\", \"<25\", \"25-34\", \"25-34\", \"25-34\", \"25-34\", \"25-34\", \"45-54\", \"25-34\", \"25-34\", \"<25\", \"45-54\", \"45-54\", \"45-54\", \"<25\", \"25-34\", \"35-44\", \"35-44\", \"25-34\", \"35-44\", \"65+\", \"25-34\", \"25-34\", \"25-34\", \"55-64\", \"45-54\", \"<25\", \"35-44\", \"25-34\", \"35-44\", \"35-44\", \"45-54\", \"25-34\", \"35-44\", \"<25\", \"35-44\", \"25-34\", \"35-44\", \"25-34\", \"25-34\", \"35-44\", \"25-34\", \"35-44\", \"25-34\", \"35-44\", \"45-54\", \"35-44\", \"25-34\", \"25-34\", \"25-34\", \"45-54\", \"35-44\", \"35-44\", \"25-34\", \"25-34\", \"25-34\", \"35-44\", \"25-34\", \"<25\", \"65+\", \"35-44\", \"25-34\", \"25-34\", \"25-34\", \"<25\", \"25-34\", \"25-34\", \"25-34\", \"35-44\", \"35-44\", \"25-34\", \"<25\", \"<25\", \"25-34\", \"45-54\", \"35-44\", \"25-34\", \"25-34\", \"35-44\", \"<25\", \"<25\", \"<25\", \"<25\", \"35-44\", \"55-64\", \"25-34\", \"25-34\", \"35-44\", \"35-44\", \"<25\", \"55-64\", \"25-34\", \"25-34\", \"25-34\", \"45-54\", \"25-34\", \"25-34\", \"25-34\", \"35-44\", \"25-34\", \"35-44\", \"45-54\", \"25-34\", \"25-34\", \"<25\", \"25-34\", \"55-64\", \"35-44\", \"35-44\", \"25-34\", \"25-34\", \"55-64\", \"35-44\", \"<25\", \"35-44\", \"35-44\", \"25-34\", \"35-44\", \"25-34\", \"35-44\", \"25-34\", \"25-34\", \"25-34\", \"25-34\", \"35-44\", \"45-54\", \"35-44\", \"45-54\", \"25-34\", \"25-34\", \"25-34\", \"<25\", \"35-44\", \"45-54\", \"25-34\", \"55-64\", \"55-64\", \"55-64\", \"35-44\", \"25-34\", \"35-44\", \"25-34\", \"<25\", \"25-34\", \"25-34\", \"<25\", \"45-54\", \"<25\", \"25-34\", \"35-44\", \"55-64\", \"25-34\", \"25-34\", \"55-64\", \"25-34\", \"<25\", \"25-34\", \"45-54\", \"<25\", \"45-54\", \"45-54\", \"<25\", \"25-34\", \"45-54\", \"45-54\", \"25-34\", \"45-54\", \"45-54\", \"25-34\", \"55-64\", \"35-44\", \"45-54\", \"35-44\", \"35-44\", \"55-64\", \"25-34\", \"35-44\", \"<25\", \"25-34\", \"25-34\", \"<25\", \"<25\", \"45-54\", \"<25\", \"<25\", \"25-34\", \"25-34\", \"<25\", \"45-54\", \"45-54\", \"25-34\", \"45-54\", \"25-34\", \"25-34\", \"35-44\", \"45-54\", \"25-34\", \"35-44\", \"25-34\", \"35-44\", \"<25\", \"25-34\", \"25-34\", \"45-54\", \"25-34\", \"35-44\", \"55-64\", \"45-54\", \"25-34\", \"35-44\", \"25-34\", \"35-44\", \"45-54\", \"45-54\", \"25-34\", \"25-34\", \"25-34\", \"25-34\", \"35-44\", \"25-34\", \"25-34\", \"45-54\", \"35-44\", \"35-44\", \"25-34\", \"25-34\", \"<25\", \"25-34\", \"25-34\", \"25-34\", \"25-34\", \"25-34\", \"25-34\", \"<25\", \"35-44\", \"35-44\", \"25-34\", \"25-34\", \"35-44\", \"25-34\", \"<25\", \"<25\", \"35-44\", \"35-44\", \"<25\", \"35-44\", \"35-44\", \"<25\", \"25-34\", \"45-54\", \"35-44\", \"25-34\", \"45-54\", \"25-34\", \"25-34\", \"25-34\", \"25-34\", \"25-34\", \"25-34\", \"25-34\", \"55-64\", \"25-34\", \"25-34\", \"25-34\", \"<25\", \"25-34\", \"25-34\", \"25-34\", \"<25\", \"45-54\", \"25-34\", \"35-44\", \"25-34\", \"35-44\", \"35-44\", \"25-34\", \"25-34\", \"25-34\", \"35-44\", \"25-34\", \"25-34\", \"45-54\", \"25-34\", \"35-44\", \"45-54\", \"25-34\", \"<25\", \"25-34\", \"35-44\", \"25-34\", \"25-34\", \"25-34\", \"55-64\", \"25-34\", \"35-44\", \"35-44\", \"35-44\", \"<25\", \"25-34\", \"25-34\", \"35-44\", \"25-34\", \"<25\", \"25-34\", \"45-54\", \"25-34\", \"25-34\", \"25-34\", \"25-34\", \"25-34\", \"25-34\", \"25-34\", \"55-64\", \"45-54\", \"25-34\", \"45-54\", \"35-44\", \"25-34\", \"25-34\", \"<25\", \"35-44\", \"45-54\", \"25-34\", \"25-34\", \"25-34\", \"25-34\", \"25-34\", \"25-34\", \"25-34\", \"25-34\", \"<25\", \"25-34\", \"25-34\", \"35-44\", \"35-44\", \"45-54\", \"25-34\", \"45-54\", \"25-34\", \"25-34\", \"25-34\", \"25-34\", \"35-44\", \"<25\", \"25-34\", \"<25\", \"35-44\", \"<25\", \"35-44\", \"<25\", \"35-44\", \"45-54\", \"25-34\", \"45-54\", \"25-34\", \"55-64\", \"25-34\", \"25-34\", \"25-34\", \"25-34\", \"25-34\", \"25-34\", \"25-34\", \"25-34\", \"<25\", \"45-54\", \"25-34\", \"25-34\", \"25-34\", \"25-34\", \"35-44\", \"45-54\", \"45-54\", \"25-34\", \"25-34\", \"25-34\", \"25-34\", \"<25\", \"35-44\", \"<25\", \"25-34\", \"45-54\", \"25-34\", \"<25\", \"45-54\", \"25-34\", \"25-34\", \"<25\", \"25-34\", \"55-64\", \"25-34\", \"35-44\", \"<25\", \"35-44\", \"<25\", \"25-34\", \"35-44\", \"35-44\", \"<25\", \"25-34\", \"25-34\", \"25-34\", \"25-34\", \"25-34\", \"25-34\", \"25-34\", \"25-34\", \"35-44\", \"35-44\", \"45-54\", \"35-44\", \"35-44\", \"25-34\", \"25-34\", \"25-34\", \"35-44\", \"<25\", \"45-54\", \"25-34\", \"55-64\", \"35-44\", \"25-34\", \"<25\", \"25-34\", \"45-54\", \"25-34\", \"45-54\", \"45-54\", \"25-34\", \"25-34\", \"25-34\", \"45-54\", \"65+\", \"55-64\", \"35-44\", \"25-34\", \"35-44\", \"35-44\", \"<25\", \"45-54\", \"45-54\", \"25-34\", \"25-34\", \"35-44\", \"25-34\", \"25-34\", \"<25\", \"<25\", \"35-44\", \"45-54\", \"55-64\", \"25-34\", \"35-44\", \"25-34\", \"<25\", \"35-44\", \"25-34\", \"25-34\", \"25-34\", \"35-44\", \"45-54\", \"45-54\", \"25-34\", \"45-54\", \"25-34\", \"<25\", \"25-34\", \"25-34\", \"35-44\", \"25-34\", \"<25\", \"25-34\", \"35-44\", \"45-54\", \"25-34\", \"25-34\", \"35-44\", \"<25\", \"45-54\", \"25-34\", \"35-44\", \"<25\", \"<25\", \"25-34\", \"<25\", \"25-34\", \"25-34\", \"25-34\", \"55-64\", \"55-64\", \"25-34\", \"25-34\", \"25-34\", \"25-34\", \"35-44\", \"35-44\", \"25-34\", \"35-44\", \"25-34\", \"35-44\", \"45-54\", \"55-64\", \"<25\", \"35-44\", \"45-54\", \"45-54\", \"25-34\", \"25-34\", \"35-44\", \"25-34\", \"45-54\", \"25-34\", \"45-54\", \"45-54\", \"55-64\", \"25-34\", \"25-34\", \"35-44\", \"45-54\", \"<25\", \"45-54\", \"25-34\", \"25-34\", \"65+\", \"55-64\", \"<25\", \"35-44\", \"25-34\", \"45-54\", \"35-44\", \"<25\", \"25-34\", \"<25\", \"45-54\", \"45-54\", \"45-54\", \"<25\", \"25-34\", \"<25\", \"35-44\", \"<25\", \"<25\", \"35-44\", \"<25\", \"45-54\", \"<25\", \"45-54\", \"35-44\", \"<25\", \"25-34\", \"35-44\", \"<25\", \"25-34\", \"55-64\", \"<25\", \"<25\", \"25-34\", \"25-34\", \"35-44\", \"25-34\", \"25-34\", \"45-54\", \"<25\", \"<25\", \"35-44\", \"55-64\", \"25-34\", \"45-54\", \"25-34\", \"35-44\", \"25-34\", \"35-44\", \"<25\", \"25-34\", \"35-44\", \"25-34\", \"35-44\", \"<25\", \"45-54\", \"<25\", \"35-44\", \"55-64\", \"25-34\"]}],                        {\"barmode\": \"overlay\", \"legend\": {\"bgcolor\": \"#F5F6F9\", \"font\": {\"color\": \"#4D5663\"}}, \"paper_bgcolor\": \"#F5F6F9\", \"plot_bgcolor\": \"#F5F6F9\", \"template\": {\"data\": {\"bar\": [{\"error_x\": {\"color\": \"#2a3f5f\"}, \"error_y\": {\"color\": \"#2a3f5f\"}, \"marker\": {\"line\": {\"color\": \"#E5ECF6\", \"width\": 0.5}}, \"type\": \"bar\"}], \"barpolar\": [{\"marker\": {\"line\": {\"color\": \"#E5ECF6\", \"width\": 0.5}}, \"type\": \"barpolar\"}], \"carpet\": [{\"aaxis\": {\"endlinecolor\": \"#2a3f5f\", \"gridcolor\": \"white\", \"linecolor\": \"white\", \"minorgridcolor\": \"white\", \"startlinecolor\": \"#2a3f5f\"}, \"baxis\": {\"endlinecolor\": \"#2a3f5f\", \"gridcolor\": \"white\", \"linecolor\": \"white\", \"minorgridcolor\": \"white\", \"startlinecolor\": \"#2a3f5f\"}, \"type\": \"carpet\"}], \"choropleth\": [{\"colorbar\": {\"outlinewidth\": 0, \"ticks\": \"\"}, \"type\": \"choropleth\"}], \"contour\": [{\"colorbar\": {\"outlinewidth\": 0, \"ticks\": \"\"}, \"colorscale\": [[0.0, \"#0d0887\"], [0.1111111111111111, \"#46039f\"], [0.2222222222222222, \"#7201a8\"], [0.3333333333333333, \"#9c179e\"], [0.4444444444444444, \"#bd3786\"], [0.5555555555555556, \"#d8576b\"], [0.6666666666666666, \"#ed7953\"], [0.7777777777777778, \"#fb9f3a\"], [0.8888888888888888, \"#fdca26\"], [1.0, \"#f0f921\"]], \"type\": \"contour\"}], \"contourcarpet\": [{\"colorbar\": {\"outlinewidth\": 0, \"ticks\": \"\"}, \"type\": \"contourcarpet\"}], \"heatmap\": [{\"colorbar\": {\"outlinewidth\": 0, \"ticks\": \"\"}, \"colorscale\": [[0.0, \"#0d0887\"], [0.1111111111111111, \"#46039f\"], [0.2222222222222222, \"#7201a8\"], [0.3333333333333333, \"#9c179e\"], [0.4444444444444444, \"#bd3786\"], [0.5555555555555556, \"#d8576b\"], [0.6666666666666666, \"#ed7953\"], [0.7777777777777778, \"#fb9f3a\"], [0.8888888888888888, \"#fdca26\"], [1.0, \"#f0f921\"]], \"type\": \"heatmap\"}], \"heatmapgl\": [{\"colorbar\": {\"outlinewidth\": 0, \"ticks\": \"\"}, \"colorscale\": [[0.0, \"#0d0887\"], [0.1111111111111111, \"#46039f\"], [0.2222222222222222, \"#7201a8\"], [0.3333333333333333, \"#9c179e\"], [0.4444444444444444, \"#bd3786\"], [0.5555555555555556, \"#d8576b\"], [0.6666666666666666, \"#ed7953\"], [0.7777777777777778, \"#fb9f3a\"], [0.8888888888888888, \"#fdca26\"], [1.0, \"#f0f921\"]], \"type\": \"heatmapgl\"}], \"histogram\": [{\"marker\": {\"colorbar\": {\"outlinewidth\": 0, \"ticks\": \"\"}}, \"type\": \"histogram\"}], \"histogram2d\": [{\"colorbar\": {\"outlinewidth\": 0, \"ticks\": \"\"}, \"colorscale\": [[0.0, \"#0d0887\"], [0.1111111111111111, \"#46039f\"], [0.2222222222222222, \"#7201a8\"], [0.3333333333333333, \"#9c179e\"], [0.4444444444444444, \"#bd3786\"], [0.5555555555555556, \"#d8576b\"], [0.6666666666666666, \"#ed7953\"], [0.7777777777777778, \"#fb9f3a\"], [0.8888888888888888, \"#fdca26\"], [1.0, \"#f0f921\"]], \"type\": \"histogram2d\"}], \"histogram2dcontour\": [{\"colorbar\": {\"outlinewidth\": 0, \"ticks\": \"\"}, \"colorscale\": [[0.0, \"#0d0887\"], [0.1111111111111111, \"#46039f\"], [0.2222222222222222, \"#7201a8\"], [0.3333333333333333, \"#9c179e\"], [0.4444444444444444, \"#bd3786\"], [0.5555555555555556, \"#d8576b\"], [0.6666666666666666, \"#ed7953\"], [0.7777777777777778, \"#fb9f3a\"], [0.8888888888888888, \"#fdca26\"], [1.0, \"#f0f921\"]], \"type\": \"histogram2dcontour\"}], \"mesh3d\": [{\"colorbar\": {\"outlinewidth\": 0, \"ticks\": \"\"}, \"type\": \"mesh3d\"}], \"parcoords\": [{\"line\": {\"colorbar\": {\"outlinewidth\": 0, \"ticks\": \"\"}}, \"type\": \"parcoords\"}], \"pie\": [{\"automargin\": true, \"type\": \"pie\"}], \"scatter\": [{\"marker\": {\"colorbar\": {\"outlinewidth\": 0, \"ticks\": \"\"}}, \"type\": \"scatter\"}], \"scatter3d\": [{\"line\": {\"colorbar\": {\"outlinewidth\": 0, \"ticks\": \"\"}}, \"marker\": {\"colorbar\": {\"outlinewidth\": 0, \"ticks\": \"\"}}, \"type\": \"scatter3d\"}], \"scattercarpet\": [{\"marker\": {\"colorbar\": {\"outlinewidth\": 0, \"ticks\": \"\"}}, \"type\": \"scattercarpet\"}], \"scattergeo\": [{\"marker\": {\"colorbar\": {\"outlinewidth\": 0, \"ticks\": \"\"}}, \"type\": \"scattergeo\"}], \"scattergl\": [{\"marker\": {\"colorbar\": {\"outlinewidth\": 0, \"ticks\": \"\"}}, \"type\": \"scattergl\"}], \"scattermapbox\": [{\"marker\": {\"colorbar\": {\"outlinewidth\": 0, \"ticks\": \"\"}}, \"type\": \"scattermapbox\"}], \"scatterpolar\": [{\"marker\": {\"colorbar\": {\"outlinewidth\": 0, \"ticks\": \"\"}}, \"type\": \"scatterpolar\"}], \"scatterpolargl\": [{\"marker\": {\"colorbar\": {\"outlinewidth\": 0, \"ticks\": \"\"}}, \"type\": \"scatterpolargl\"}], \"scatterternary\": [{\"marker\": {\"colorbar\": {\"outlinewidth\": 0, \"ticks\": \"\"}}, \"type\": \"scatterternary\"}], \"surface\": [{\"colorbar\": {\"outlinewidth\": 0, \"ticks\": \"\"}, \"colorscale\": [[0.0, \"#0d0887\"], [0.1111111111111111, \"#46039f\"], [0.2222222222222222, \"#7201a8\"], [0.3333333333333333, \"#9c179e\"], [0.4444444444444444, \"#bd3786\"], [0.5555555555555556, \"#d8576b\"], [0.6666666666666666, \"#ed7953\"], [0.7777777777777778, \"#fb9f3a\"], [0.8888888888888888, \"#fdca26\"], [1.0, \"#f0f921\"]], \"type\": \"surface\"}], \"table\": [{\"cells\": {\"fill\": {\"color\": \"#EBF0F8\"}, \"line\": {\"color\": \"white\"}}, \"header\": {\"fill\": {\"color\": \"#C8D4E3\"}, \"line\": {\"color\": \"white\"}}, \"type\": \"table\"}]}, \"layout\": {\"annotationdefaults\": {\"arrowcolor\": \"#2a3f5f\", \"arrowhead\": 0, \"arrowwidth\": 1}, \"coloraxis\": {\"colorbar\": {\"outlinewidth\": 0, \"ticks\": \"\"}}, \"colorscale\": {\"diverging\": [[0, \"#8e0152\"], [0.1, \"#c51b7d\"], [0.2, \"#de77ae\"], [0.3, \"#f1b6da\"], [0.4, \"#fde0ef\"], [0.5, \"#f7f7f7\"], [0.6, \"#e6f5d0\"], [0.7, \"#b8e186\"], [0.8, \"#7fbc41\"], [0.9, \"#4d9221\"], [1, \"#276419\"]], \"sequential\": [[0.0, \"#0d0887\"], [0.1111111111111111, \"#46039f\"], [0.2222222222222222, \"#7201a8\"], [0.3333333333333333, \"#9c179e\"], [0.4444444444444444, \"#bd3786\"], [0.5555555555555556, \"#d8576b\"], [0.6666666666666666, \"#ed7953\"], [0.7777777777777778, \"#fb9f3a\"], [0.8888888888888888, \"#fdca26\"], [1.0, \"#f0f921\"]], \"sequentialminus\": [[0.0, \"#0d0887\"], [0.1111111111111111, \"#46039f\"], [0.2222222222222222, \"#7201a8\"], [0.3333333333333333, \"#9c179e\"], [0.4444444444444444, \"#bd3786\"], [0.5555555555555556, \"#d8576b\"], [0.6666666666666666, \"#ed7953\"], [0.7777777777777778, \"#fb9f3a\"], [0.8888888888888888, \"#fdca26\"], [1.0, \"#f0f921\"]]}, \"colorway\": [\"#636efa\", \"#EF553B\", \"#00cc96\", \"#ab63fa\", \"#FFA15A\", \"#19d3f3\", \"#FF6692\", \"#B6E880\", \"#FF97FF\", \"#FECB52\"], \"font\": {\"color\": \"#2a3f5f\"}, \"geo\": {\"bgcolor\": \"white\", \"lakecolor\": \"white\", \"landcolor\": \"#E5ECF6\", \"showlakes\": true, \"showland\": true, \"subunitcolor\": \"white\"}, \"hoverlabel\": {\"align\": \"left\"}, \"hovermode\": \"closest\", \"mapbox\": {\"style\": \"light\"}, \"paper_bgcolor\": \"white\", \"plot_bgcolor\": \"#E5ECF6\", \"polar\": {\"angularaxis\": {\"gridcolor\": \"white\", \"linecolor\": \"white\", \"ticks\": \"\"}, \"bgcolor\": \"#E5ECF6\", \"radialaxis\": {\"gridcolor\": \"white\", \"linecolor\": \"white\", \"ticks\": \"\"}}, \"scene\": {\"xaxis\": {\"backgroundcolor\": \"#E5ECF6\", \"gridcolor\": \"white\", \"gridwidth\": 2, \"linecolor\": \"white\", \"showbackground\": true, \"ticks\": \"\", \"zerolinecolor\": \"white\"}, \"yaxis\": {\"backgroundcolor\": \"#E5ECF6\", \"gridcolor\": \"white\", \"gridwidth\": 2, \"linecolor\": \"white\", \"showbackground\": true, \"ticks\": \"\", \"zerolinecolor\": \"white\"}, \"zaxis\": {\"backgroundcolor\": \"#E5ECF6\", \"gridcolor\": \"white\", \"gridwidth\": 2, \"linecolor\": \"white\", \"showbackground\": true, \"ticks\": \"\", \"zerolinecolor\": \"white\"}}, \"shapedefaults\": {\"line\": {\"color\": \"#2a3f5f\"}}, \"ternary\": {\"aaxis\": {\"gridcolor\": \"white\", \"linecolor\": \"white\", \"ticks\": \"\"}, \"baxis\": {\"gridcolor\": \"white\", \"linecolor\": \"white\", \"ticks\": \"\"}, \"bgcolor\": \"#E5ECF6\", \"caxis\": {\"gridcolor\": \"white\", \"linecolor\": \"white\", \"ticks\": \"\"}}, \"title\": {\"x\": 0.05}, \"xaxis\": {\"automargin\": true, \"gridcolor\": \"white\", \"linecolor\": \"white\", \"ticks\": \"\", \"title\": {\"standoff\": 15}, \"zerolinecolor\": \"white\", \"zerolinewidth\": 2}, \"yaxis\": {\"automargin\": true, \"gridcolor\": \"white\", \"linecolor\": \"white\", \"ticks\": \"\", \"title\": {\"standoff\": 15}, \"zerolinecolor\": \"white\", \"zerolinewidth\": 2}}}, \"title\": {\"font\": {\"color\": \"#4D5663\"}}, \"xaxis\": {\"gridcolor\": \"#E1E5ED\", \"showgrid\": true, \"tickfont\": {\"color\": \"#4D5663\"}, \"title\": {\"font\": {\"color\": \"#4D5663\"}, \"text\": \"\"}, \"zerolinecolor\": \"#E1E5ED\"}, \"yaxis\": {\"gridcolor\": \"#E1E5ED\", \"showgrid\": true, \"tickfont\": {\"color\": \"#4D5663\"}, \"title\": {\"font\": {\"color\": \"#4D5663\"}, \"text\": \"\"}, \"zerolinecolor\": \"#E1E5ED\"}},                        {\"showLink\": true, \"linkText\": \"Export to plot.ly\", \"plotlyServerURL\": \"https://plot.ly\", \"responsive\": true}                    ).then(function(){\n",
       "                            \n",
       "var gd = document.getElementById('46db60e2-2b5d-4026-9647-78d885035ad4');\n",
       "var x = new MutationObserver(function (mutations, observer) {{\n",
       "        var display = window.getComputedStyle(gd).display;\n",
       "        if (!display || display === 'none') {{\n",
       "            console.log([gd, 'removed!']);\n",
       "            Plotly.purge(gd);\n",
       "            observer.disconnect();\n",
       "        }}\n",
       "}});\n",
       "\n",
       "// Listen for the removal of the full notebook cells\n",
       "var notebookContainer = gd.closest('#notebook-container');\n",
       "if (notebookContainer) {{\n",
       "    x.observe(notebookContainer, {childList: true});\n",
       "}}\n",
       "\n",
       "// Listen for the clearing of the current output cell\n",
       "var outputEl = gd.closest('.output');\n",
       "if (outputEl) {{\n",
       "    x.observe(outputEl, {childList: true});\n",
       "}}\n",
       "\n",
       "                        })                };                });            </script>        </div>"
      ]
     },
     "metadata": {},
     "output_type": "display_data"
    }
   ],
   "source": [
    "df['age'].iplot(kind='hist',bins=30,color='green')"
   ]
  },
  {
   "cell_type": "code",
   "execution_count": 40,
   "metadata": {},
   "outputs": [
    {
     "data": {
      "text/plain": [
       "<matplotlib.axes._subplots.AxesSubplot at 0x263ecdc9fa0>"
      ]
     },
     "execution_count": 40,
     "metadata": {},
     "output_type": "execute_result"
    },
    {
     "data": {
      "image/png": "[encoded data removed]",
      "text/plain": [
       "<Figure size 864x504 with 1 Axes>"
      ]
     },
     "metadata": {},
     "output_type": "display_data"
    }
   ],
   "source": [
    "plt.figure(figsize=(12, 7))\n",
    "sns.boxplot(x='age',y='height',data=df,palette='winter') #"
   ]
  }
 ],
 "metadata": {
  "kernelspec": {
   "display_name": "Python 3",
   "language": "python",
   "name": "python3"
  },
  "language_info": {
   "codemirror_mode": {
    "name": "ipython",
    "version": 3
   },
   "file_extension": ".py",
   "mimetype": "text/x-python",
   "name": "python",
   "nbconvert_exporter": "python",
   "pygments_lexer": "ipython3",
   "version": "3.8.5"
  }
 },
 "nbformat": 4,
 "nbformat_minor": 4
}
